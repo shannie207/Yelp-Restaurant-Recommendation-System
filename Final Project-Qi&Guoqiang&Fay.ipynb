{
 "cells": [
  {
   "cell_type": "markdown",
   "metadata": {},
   "source": [
    "<h1><center>Yelp - Recommendation System</center></h1>\n",
    "<div style=\"text-align: right\"> Qi Wang</div>\n",
    "<div style=\"text-align: right\"> Guoqiang Chen</div>\n",
    "<div style=\"text-align: right\"> Fay Wu</div>\n"
   ]
  },
  {
   "cell_type": "markdown",
   "metadata": {},
   "source": [
    "The folder that contains all the files needed for the notebook can be downloaded through:\n",
    "https://ucsb.box.com/s/t5e83x2ob8yseqasm1737h2oafhao1uu"
   ]
  },
  {
   "cell_type": "markdown",
   "metadata": {},
   "source": [
    "<a id = 'catelog'></a>\n",
    "## Contents\n",
    "1. [Introduction](#intro)\n",
    "2. [Data Description](#data)\n",
    "3. [Neighborhood-Based Recommendation System](#neighbor)\n",
    "\n",
    "    3.1 [Rating, Prediction and Recommendation](#rating)    \n",
    "    -  [How to measure the similarity?](#3.1.1)\n",
    "    -  [How many neighbors to keep?](#3.1.2)\n",
    "    -  [How to generate items from the neighbors?](#3.1.3)\n",
    "    -  [Model Building and Evaluation](#3.1.4)\n",
    "    -  [Model Selection by Parameter Tuning](#3.1.5)\n",
    "    -  [Discussion about Rating-based recommendation system](#3.1.6)\n",
    "    \n",
    "   3.2 [Topic modeling of Review Data](#3.2)\n",
    "   -  [Review data pre-possessing](#3.2.1)\n",
    "   -  [NMF- Topic Modeling](#3.2.2)\n",
    "   -  [LDA- Topic Modeling and Comparison with NMF](#3.2.3)\n",
    "   -  [Clustering Based on NMF](#3.2.4)\n",
    "    \n",
    "   3.3 [K-modes Clustering](#3.3)\n",
    "   -  [First Feature Selection](#3.3.1)\n",
    "   -  [Missing Values and  Second Round of Variables Selection](#3.3.2)\n",
    "   -  [Clustering Method: K-modes Cluster](#3.3.3)\n",
    "   -  [Discussion about the K-modes method and other methods](#3.3.4)\n",
    "4. [Summary and Discussion](#4)"
   ]
  },
  {
   "cell_type": "markdown",
   "metadata": {},
   "source": [
    "<a id = 'intro'></a>\n",
    "# 1. Introduction\n",
    "\n",
    "“What to eat?” is a question originated from ancient time. A nowadays version is “which restaurant for dinner?” Facing with tons of choices, personally try all of them is impossible. Take California for example, official data show that in total there are 72,387 restaurants. If one man chooses to attend a new restaurant every day, it will take him almost 200 years to experience all these places. So is there a smarter way? We can directly ask foodies around us for recommendations. They are like nodes in a restaurant-network, helping us extend our boundaries. Furthermore, among those foodie friends, we’d better inquire those who have similar taste with us, since they have greater probability to give us suitable suggestions. \n",
    "\n",
    "Inspiring by this intuitive idea, we developed a recommendation system based on user similarity in taste space. Yelp aggregates rating and review data from its users. We took advantage of these data to suggest appetizing restaurants. For each specific target user, we search the whole database, and figure out the most similar neighbors, dependent on ratings and reviews. Two different methods are utilized for finding neighbors, based on ratings and non-ratings, separately. For rating data, we calculate the _pearson correlation coefficient_ (PCC) on co-rating restaurants between every other user with our target user to generate a similarity ranking. For non-rating data such as reviews and restaurant features, we clustered users into different groups, and the same group members are treated as neighbors. We utilized data from top neighbors to give out recommendations. \n",
    "\n",
    "Based on this similarity-system, we further added the prediction module, with which we can predict rating values for those novel restaurants that target users have never been to. We also discuss the drawback of our method and work that can be performed in the future.\n",
    "\n",
    "\n",
    "\n",
    "\n",
    "[Return to the Top](#intro)"
   ]
  },
  {
   "cell_type": "markdown",
   "metadata": {},
   "source": [
    "<a id = 'data'></a>\n",
    "# 2. Data Description\n",
    "\n",
    "The Yelp Open Dataset offers rich and various resource given by 520 million user reviews come from 1,300,000 users for 174,000 businesses. Each business has multiple attributes while each review records at least user’s star rating and the text content. How to utilize this dataset is challenging especially for choosing the proper information for our target. \n",
    "\n",
    "After downloading the data and preprocessing, we decided to keep 3 json files for analysis: `review.json`, `business.json` and `user.json`. From the `business.json`, we generate businesses that still open and belongs to restaurants and located in North America. Then we kept businesses and users with review counts more than 20. In the following analysis, we will split/aggregate/modify corresponding data further. \n",
    "\n",
    "\n",
    "\n",
    "[Return to the Top](#intro)"
   ]
  },
  {
   "cell_type": "markdown",
   "metadata": {},
   "source": [
    "<a id = 'neighbor'></a>\n",
    "# 3. Neighborhood-Based Recommendation System\n",
    "\n",
    "In this section, we will introduce the Neighborhood-method for item (restaurant) recommendation, identify essential decisions that need to make when building the system, then implement the methods on the Yelp Data. \n",
    "\n",
    "The main idea about the neighborhood-based recommendation is that the preference of our target user $u$ for a new restaurant is likely to be similar to that of another user $v$, if $u$ and $v$ are neighbors. Base on this, we divide our procedure into two main steps, firstly identify one/group of users as neighbor(s), then generate recommended items from the neighbor(s). There are various of ways to select neighbors. We mainly focus on:\n",
    "\n",
    "1. Rating, Prediction and Recommendation\n",
    "2. Clustering\n",
    "    -  Topic modeling of Review Data\n",
    "    -  K-mode Clustering"
   ]
  },
  {
   "cell_type": "markdown",
   "metadata": {},
   "source": [
    "<a id = 'rating'></a>\n",
    "\n",
    "## 3.1 Rating, Prediction and Recommendation\n",
    "\n",
    "Firstly we choose the restaurants that located in _Arizona_ as a example, which contains 3,407 users and 2,407 restaurants. After the initial model is setting up, we perform Cross-Validation for Model Selection, using MAE and RMSE as the evaluation criteria. We will also discuss the potential problems and explore solutions for them."
   ]
  },
  {
   "cell_type": "code",
   "execution_count": 1,
   "metadata": {},
   "outputs": [],
   "source": [
    "import json\n",
    "import pandas as pd\n",
    "import pickle\n",
    "import numpy as np\n",
    "import rec_ini as rec\n",
    "import matplotlib.pyplot as plt\n",
    "import math as m"
   ]
  },
  {
   "cell_type": "code",
   "execution_count": 2,
   "metadata": {},
   "outputs": [],
   "source": [
    "# load data \n",
    "# Review data in Arizona \n",
    "AZ_review = pickle.load(open('AZ_review.pkl', 'rb'))\n",
    "user_hist_df = pickle.load(open('user_hist_df.pkl', 'rb'))"
   ]
  },
  {
   "cell_type": "code",
   "execution_count": 3,
   "metadata": {},
   "outputs": [
    {
     "name": "stdout",
     "output_type": "stream",
     "text": [
      "Index(['business_id', 'cool', 'date', 'funny', 'review_id', 'stars', 'text',\n",
      "       'useful', 'user_id'],\n",
      "      dtype='object')\n",
      "Index(['history_count', 'restaurant_history', 'user_id', 'average_stars'], dtype='object')\n"
     ]
    }
   ],
   "source": [
    "print(AZ_review.columns)\n",
    "print(user_hist_df.columns)"
   ]
  },
  {
   "cell_type": "code",
   "execution_count": 4,
   "metadata": {
    "scrolled": true
   },
   "outputs": [
    {
     "data": {
      "text/plain": [
       "<matplotlib.axes._subplots.AxesSubplot at 0x11b551c18>"
      ]
     },
     "execution_count": 4,
     "metadata": {},
     "output_type": "execute_result"
    },
    {
     "data": {
      "image/png": "[encoded data removed]",
      "text/plain": [
       "<matplotlib.figure.Figure at 0x10ce93d30>"
      ]
     },
     "metadata": {},
     "output_type": "display_data"
    }
   ],
   "source": [
    "%matplotlib inline\n",
    "plt.style.use('ggplot')\n",
    "fig, ax = plt.subplots(1, 2, figsize = (10,4))\n",
    "user_hist_df.history_count.plot(kind='hist', title='Histogram of Count of Restaurant History',ax = ax[0])\n",
    "user_hist_df.average_stars.plot(kind='hist', title='Histogram of Average Stars of Users',ax = ax[1])"
   ]
  },
  {
   "cell_type": "markdown",
   "metadata": {},
   "source": [
    "(1) The left panel shows that the review counts per user is highly skewed. Most users give reviews less than 100.   \n",
    "(2) The average rating per user has a heavy left tail.\n",
    "\n",
    "[Return to the Top](#intro)   |   [Return to Section Top](#rating)"
   ]
  },
  {
   "cell_type": "markdown",
   "metadata": {},
   "source": [
    "Some first questions regarding rating-based recommendation are:\n",
    "1. How to measure the similarity?\n",
    "2. How many neighbors to keep?\n",
    "3. How to generate items from the neighbors?\n",
    "\n",
    "**Similarity** plays a key role in the whole procedure because \n",
    "\n",
    "(i) We search for neighbor(s) based on similarity;\n",
    "\n",
    "(ii) The weight of similarity in the neighbors provide information for selecting recommended restaurants.\n"
   ]
  },
  {
   "cell_type": "markdown",
   "metadata": {},
   "source": [
    "<a id = '3.1.1'></a>\n",
    "### 3.1.1 How to measure the similarity?\n",
    "\n",
    "Pearson correlation coefficient (PCC) based on rating is adapted to calculate _user-user_ similarity. To deal with restaurants that one user has rated but the other has not, we only consider the items that both users have rated and to do this consistently ([Michael 2013](https://grouplens.org/blog/similarity-functions-for-user-user-collaborative-filtering/)). The PCC is a mean-centered cosine similarity and defined as:\n",
    "\n",
    "$$Sim(u,v) = \\frac{\\sum_{i\\in I_{uv}}(r_{ui}-\\mu_u)(r_{vi}-\\mu_v)}{\\sqrt{\\sum_{i\\in I_{uv}}(r_{ui}-\\mu_u)^2}\\sqrt{\\sum_{i\\in I_{uv}}(r_{vi}-\\mu_v)^2}}$$\n",
    "\n",
    "Notations:\n",
    "\n",
    "$U$: set of all users, $u$ and $v$ denotes users.\n",
    "\n",
    "$I$: set of all restaurants, $i$ and $j$ denotes restaurants. \n",
    "\n",
    "$I_{uv}$: the set of all restaurants rated by both user $u$ and $v$.\n",
    "\n",
    "$R$: set of all ratings\n",
    "\n",
    "$r_{ui}$: the _true_ rating of user $u$ for restaurent $i$\n",
    "\n",
    "$\\mu_{u}$: the mean of all ratings given by user $u$\n"
   ]
  },
  {
   "cell_type": "markdown",
   "metadata": {},
   "source": [
    "<a id = '3.1.2'></a>\n",
    "### 3.1.2 How many neighbors to keep?\n",
    "\n",
    "1. Pre-Screening: \n",
    "    1. Since PCC is calculated based on co-rated items, it is necessary to set a threshold to filter out reference users that have too few co-rated items with the target user to avoid non-informative correlation for extreme cases.\n",
    "    2. Intuitively strong positive correlation between two users is a good indicator that they possibly belong to the same group when negative rating correlation are less reliable for the recommending task. We decide to remove all the users that have negative PCC with the target user. After that, we also consider to set a threshold for the minimum PCC.\n",
    "\n",
    "2. Top K filtering for prediction:\n",
    "\n",
    "    Here we need to choose a list of the *k* nearest-neighbors for recommendation. Theoretically, the prediction accuracy of *k* is a concave function ([Francesco 2011](http://www.cs.ubbcluj.ro/~gabis/DocDiplome/SistemeDeRecomandare/Recommender_systems_handbook.pdf)). That is to say, when *k* is small, the accuracy is low, as *k* increases, more neighbors contribute to the prediction and the variance introduced by individual neighbors is averaged out. As a result, the prediction accuracy improves. Finally, the accuracy usually drops when too many neighbors are included. We will use Cross-Validation to choose the optimal *k*.\n",
    " \n"
   ]
  },
  {
   "cell_type": "markdown",
   "metadata": {},
   "source": [
    "<a id = '3.1.3'></a>\n",
    "\n",
    "### 3.1.3 How to generate items from the neighbors?\n",
    "\n",
    "1. A direct way is to choose the items that the neighbors prefer. \n",
    "2. Consider we have the rating information, we can also predict the target user’s rating for the recommended items in his/her neighborhood. Then select items with high ratings.\n",
    " \n",
    "The initial function for prediction is established as follows: \n",
    "\n",
    "$$ pred(u,i) = \\frac{\\sum_{v \\in N_i^k(u)}sim(u,v)r_{vi}}{\\sum_{v \\in N_i^k(u)}sim(u,v)} \\hspace{4.2cm} (1)$$\n",
    "\n",
    "$N_i^k(u)$: the *k* nearest neighbors of user $u$ that have rated item $i$\n",
    "\n",
    "However, users have different rating schemes, an happy user might consistently rate things 4 of 5 stars that a sad user rates 3 of 5 stars. Take this into account, we introduce the user’s mean rating to form the updated the function:\n",
    "\n",
    "$$ pred(u,i) = \\mu_{u} + \\frac{\\sum_{v \\in N_i^k(u)}sim(u,v)(r_{vi} - \\mu_{v})}{\\sum_{v \\in N_i^k(u)}sim(u,v)} \\hspace{2cm} (2)$$\n",
    "\n",
    "[Return to the Top](#intro)   |   [Return to Section Top](#rating)   | [Comparison](#pred_vs)"
   ]
  },
  {
   "cell_type": "markdown",
   "metadata": {},
   "source": [
    "<a id = '3.1.4'></a>\n",
    "### 3.1.4 Model Building and Evaluation\n",
    "\n",
    "Now, let's implement our ideas on real data. The following module is built up based on 1 example user."
   ]
  },
  {
   "cell_type": "code",
   "execution_count": 4,
   "metadata": {},
   "outputs": [
    {
     "name": "stdout",
     "output_type": "stream",
     "text": [
      "32.0\n"
     ]
    },
    {
     "data": {
      "text/html": [
       "<div>\n",
       "<style>\n",
       "    .dataframe thead tr:only-child th {\n",
       "        text-align: right;\n",
       "    }\n",
       "\n",
       "    .dataframe thead th {\n",
       "        text-align: left;\n",
       "    }\n",
       "\n",
       "    .dataframe tbody tr th {\n",
       "        vertical-align: top;\n",
       "    }\n",
       "</style>\n",
       "<table border=\"1\" class=\"dataframe\">\n",
       "  <thead>\n",
       "    <tr style=\"text-align: right;\">\n",
       "      <th></th>\n",
       "      <th>history_count</th>\n",
       "      <th>restaurant_history</th>\n",
       "      <th>user_id</th>\n",
       "      <th>average_stars</th>\n",
       "    </tr>\n",
       "  </thead>\n",
       "  <tbody>\n",
       "    <tr>\n",
       "      <th>659</th>\n",
       "      <td>32</td>\n",
       "      <td>[dimv16yFu0JXR1n1SAqedQ, KOQw4e1rwCY5e0RnmB5rg...</td>\n",
       "      <td>AwwV1jK46hKla2nLF2J-kA</td>\n",
       "      <td>3.38</td>\n",
       "    </tr>\n",
       "  </tbody>\n",
       "</table>\n",
       "</div>"
      ],
      "text/plain": [
       "     history_count                                 restaurant_history  \\\n",
       "659             32  [dimv16yFu0JXR1n1SAqedQ, KOQw4e1rwCY5e0RnmB5rg...   \n",
       "\n",
       "                    user_id  average_stars  \n",
       "659  AwwV1jK46hKla2nLF2J-kA           3.38  "
      ]
     },
     "execution_count": 4,
     "metadata": {},
     "output_type": "execute_result"
    }
   ],
   "source": [
    "# select a typical user with count = median\n",
    "p = np.percentile(user_hist_df.history_count, 50) # return median\n",
    "print(p)\n",
    "user_hist_df.loc[user_hist_df['history_count'] == 32].sample(n=1, random_state= 7)"
   ]
  },
  {
   "cell_type": "code",
   "execution_count": 5,
   "metadata": {},
   "outputs": [],
   "source": [
    "target_id = 'AwwV1jK46hKla2nLF2J-kA'"
   ]
  },
  {
   "cell_type": "code",
   "execution_count": 6,
   "metadata": {},
   "outputs": [],
   "source": [
    "# get this user's history\n",
    "target_hist = user_hist_df.loc[user_hist_df['user_id']== target_id].copy().iloc[0]['restaurant_history']"
   ]
  },
  {
   "cell_type": "code",
   "execution_count": 7,
   "metadata": {},
   "outputs": [],
   "source": [
    "# build a dataframe to save results for target_user\n",
    "\n",
    "result_df = user_hist_df.copy()\n",
    "\n",
    "# find overlap of reference users and target user\n",
    "\n",
    "overlap_list = rec.overlap(target_hist,user_hist_df)\n",
    "result_df['overlap'] = overlap_list\n",
    "\n",
    "# drop the rows that has empty overlapping and user himself\n",
    "\n",
    "result_df = result_df[result_df.astype(str)['overlap'] != '[]']\n",
    "result_df = result_df[result_df.user_id != target_id]\n",
    "\n",
    "# count the number of overlapping restaurants and add it to dataframe\n",
    "\n",
    "overlap_count = result_df['overlap'].apply(len).tolist()\n",
    "result_df['overlap_count'] = overlap_count\n",
    "\n",
    "# filter the overlapping count >=5 , get 89 reference users\n",
    "result_df = result_df.loc[result_df['overlap_count']>=5].copy()"
   ]
  },
  {
   "cell_type": "code",
   "execution_count": 8,
   "metadata": {},
   "outputs": [],
   "source": [
    "# calculate pearson correlation\n",
    "rho_list = []\n",
    "for i in range(0,len(result_df)):\n",
    "    rho_list.append(rec.corr_cal(u_id = result_df.iloc[i][\"user_id\"], \n",
    "                                 t_id = target_id,\n",
    "                                 biz = result_df.iloc[i][\"overlap\"],\n",
    "                                 df = AZ_review))\n",
    "\n",
    "result_df['rho'] = rho_list    "
   ]
  },
  {
   "cell_type": "code",
   "execution_count": 9,
   "metadata": {},
   "outputs": [],
   "source": [
    "# select top 5 as high correlated users , check their rho, all >0.8\n",
    "# let them be the neighbors\n",
    "result_df = result_df.sort_values('rho', ascending= False).copy()\n",
    "nb_df = result_df.head(5)"
   ]
  },
  {
   "cell_type": "code",
   "execution_count": 10,
   "metadata": {
    "scrolled": true
   },
   "outputs": [
    {
     "data": {
      "text/html": [
       "<div>\n",
       "<style>\n",
       "    .dataframe thead tr:only-child th {\n",
       "        text-align: right;\n",
       "    }\n",
       "\n",
       "    .dataframe thead th {\n",
       "        text-align: left;\n",
       "    }\n",
       "\n",
       "    .dataframe tbody tr th {\n",
       "        vertical-align: top;\n",
       "    }\n",
       "</style>\n",
       "<table border=\"1\" class=\"dataframe\">\n",
       "  <thead>\n",
       "    <tr style=\"text-align: right;\">\n",
       "      <th></th>\n",
       "      <th>address</th>\n",
       "      <th>attributes</th>\n",
       "      <th>business_id</th>\n",
       "      <th>categories</th>\n",
       "      <th>city</th>\n",
       "      <th>hours</th>\n",
       "      <th>is_open</th>\n",
       "      <th>latitude</th>\n",
       "      <th>longitude</th>\n",
       "      <th>name</th>\n",
       "      <th>neighborhood</th>\n",
       "      <th>postal_code</th>\n",
       "      <th>review_count</th>\n",
       "      <th>stars</th>\n",
       "      <th>state</th>\n",
       "      <th>is_restaurant</th>\n",
       "    </tr>\n",
       "  </thead>\n",
       "  <tbody>\n",
       "    <tr>\n",
       "      <th>2104</th>\n",
       "      <td>5223 N Central Ave</td>\n",
       "      <td>{'Alcohol': 'full_bar', 'HasTV': True, 'NoiseL...</td>\n",
       "      <td>cTJjTKz2huGZ-ElScC2pSw</td>\n",
       "      <td>[American (New), Bars, Food, Pubs, Nightlife, ...</td>\n",
       "      <td>Phoenix</td>\n",
       "      <td>{'Monday': '11:00-23:00', 'Tuesday': '11:00-23...</td>\n",
       "      <td>1</td>\n",
       "      <td>33.513575</td>\n",
       "      <td>-112.073381</td>\n",
       "      <td>Windsor</td>\n",
       "      <td></td>\n",
       "      <td>85012</td>\n",
       "      <td>977</td>\n",
       "      <td>4.0</td>\n",
       "      <td>AZ</td>\n",
       "      <td>True</td>\n",
       "    </tr>\n",
       "    <tr>\n",
       "      <th>66318</th>\n",
       "      <td>110 E Roosevelt St</td>\n",
       "      <td>{'RestaurantsTableService': True, 'GoodForMeal...</td>\n",
       "      <td>-yQHIYKXH3HAdhh1W52OMQ</td>\n",
       "      <td>[American (New), Hot Dogs, Food, Donuts, Gastr...</td>\n",
       "      <td>Phoenix</td>\n",
       "      <td>{'Monday': '8:00-21:00', 'Tuesday': '8:00-21:0...</td>\n",
       "      <td>1</td>\n",
       "      <td>33.458782</td>\n",
       "      <td>-112.072266</td>\n",
       "      <td>Short Leash Hotdogs &amp; Rollover Doughnuts</td>\n",
       "      <td></td>\n",
       "      <td>85004</td>\n",
       "      <td>413</td>\n",
       "      <td>4.0</td>\n",
       "      <td>AZ</td>\n",
       "      <td>True</td>\n",
       "    </tr>\n",
       "    <tr>\n",
       "      <th>99030</th>\n",
       "      <td>308 N 2nd Ave</td>\n",
       "      <td>{'Alcohol': 'full_bar', 'HasTV': True, 'NoiseL...</td>\n",
       "      <td>Ns20WGWn6s6niKAGIQB4UQ</td>\n",
       "      <td>[Arts &amp; Entertainment, Music Venues, Restauran...</td>\n",
       "      <td>Phoenix</td>\n",
       "      <td>{'Monday': '11:00-0:00', 'Tuesday': '11:00-0:0...</td>\n",
       "      <td>1</td>\n",
       "      <td>33.451778</td>\n",
       "      <td>-112.076835</td>\n",
       "      <td>Crescent Ballroom</td>\n",
       "      <td></td>\n",
       "      <td>85003</td>\n",
       "      <td>493</td>\n",
       "      <td>4.0</td>\n",
       "      <td>AZ</td>\n",
       "      <td>True</td>\n",
       "    </tr>\n",
       "    <tr>\n",
       "      <th>100892</th>\n",
       "      <td>1 W Jefferson St</td>\n",
       "      <td>{'WheelchairAccessible': True, 'DogsAllowed': ...</td>\n",
       "      <td>Gz9SlLqxS6wnxPvgdOQNrA</td>\n",
       "      <td>[Bars, Nightlife, Lounges, Restaurants, Cockta...</td>\n",
       "      <td>Phoenix</td>\n",
       "      <td>{'Tuesday': '16:00-2:00', 'Friday': '16:00-2:0...</td>\n",
       "      <td>1</td>\n",
       "      <td>33.446995</td>\n",
       "      <td>-112.073873</td>\n",
       "      <td>Bitter &amp; Twisted Cocktail Parlour</td>\n",
       "      <td></td>\n",
       "      <td>85003</td>\n",
       "      <td>683</td>\n",
       "      <td>4.0</td>\n",
       "      <td>AZ</td>\n",
       "      <td>True</td>\n",
       "    </tr>\n",
       "    <tr>\n",
       "      <th>145578</th>\n",
       "      <td>1513 E Apache Blvd</td>\n",
       "      <td>{'RestaurantsTableService': True, 'GoodForMeal...</td>\n",
       "      <td>2GmGT-7QjowR1ihup3FbVA</td>\n",
       "      <td>[Restaurants, Mediterranean, Grocery, Middle E...</td>\n",
       "      <td>Tempe</td>\n",
       "      <td>{'Monday': '11:00-20:00', 'Tuesday': '11:00-20...</td>\n",
       "      <td>1</td>\n",
       "      <td>33.414271</td>\n",
       "      <td>-111.913451</td>\n",
       "      <td>Haji-Baba</td>\n",
       "      <td></td>\n",
       "      <td>85281</td>\n",
       "      <td>720</td>\n",
       "      <td>4.5</td>\n",
       "      <td>AZ</td>\n",
       "      <td>True</td>\n",
       "    </tr>\n",
       "    <tr>\n",
       "      <th>148677</th>\n",
       "      <td>7213 E 1st Ave</td>\n",
       "      <td>{'RestaurantsTableService': True, 'GoodForMeal...</td>\n",
       "      <td>sKrlmbrZWCyLIgiMihCPqw</td>\n",
       "      <td>[Hawaiian, Restaurants, Pan Asian]</td>\n",
       "      <td>Scottsdale</td>\n",
       "      <td>{'Monday': '11:00-22:00', 'Tuesday': '11:00-22...</td>\n",
       "      <td>1</td>\n",
       "      <td>33.493853</td>\n",
       "      <td>-111.925625</td>\n",
       "      <td>Hula's Modern Tiki Scottsdale</td>\n",
       "      <td></td>\n",
       "      <td>85251</td>\n",
       "      <td>509</td>\n",
       "      <td>4.0</td>\n",
       "      <td>AZ</td>\n",
       "      <td>True</td>\n",
       "    </tr>\n",
       "    <tr>\n",
       "      <th>163683</th>\n",
       "      <td>110 E Roosevelt St</td>\n",
       "      <td>{'RestaurantsTableService': False, 'GoodForMea...</td>\n",
       "      <td>9Cq_NVvWZOEAzmE7tqJgmg</td>\n",
       "      <td>[Restaurants, Hot Dogs, American (New), Food S...</td>\n",
       "      <td>Phoenix</td>\n",
       "      <td>{'Monday': '8:00-21:00', 'Tuesday': '8:00-21:0...</td>\n",
       "      <td>1</td>\n",
       "      <td>33.458919</td>\n",
       "      <td>-112.072201</td>\n",
       "      <td>Short Leash Hot Dogs Food Truck</td>\n",
       "      <td></td>\n",
       "      <td>85004</td>\n",
       "      <td>401</td>\n",
       "      <td>4.5</td>\n",
       "      <td>AZ</td>\n",
       "      <td>True</td>\n",
       "    </tr>\n",
       "    <tr>\n",
       "      <th>169376</th>\n",
       "      <td>4404 N Central Ave</td>\n",
       "      <td>{'Alcohol': 'beer_and_wine', 'HasTV': False, '...</td>\n",
       "      <td>lgWB0yGXpZvupYREWxtV7g</td>\n",
       "      <td>[Sandwiches, Italian, Pizza, Restaurants]</td>\n",
       "      <td>Phoenix</td>\n",
       "      <td>{'Monday': '11:00-15:00', 'Tuesday': '11:00-15...</td>\n",
       "      <td>1</td>\n",
       "      <td>33.500621</td>\n",
       "      <td>-112.074311</td>\n",
       "      <td>Pane Bianco</td>\n",
       "      <td></td>\n",
       "      <td>85012</td>\n",
       "      <td>479</td>\n",
       "      <td>4.0</td>\n",
       "      <td>AZ</td>\n",
       "      <td>True</td>\n",
       "    </tr>\n",
       "    <tr>\n",
       "      <th>171047</th>\n",
       "      <td>603 N 5th Ave</td>\n",
       "      <td>{'Alcohol': 'beer_and_wine', 'HasTV': True, 'N...</td>\n",
       "      <td>9a3DrZvpYxVs3k_qwlCNSw</td>\n",
       "      <td>[Sandwiches, Pizza, Restaurants, Italian]</td>\n",
       "      <td>Phoenix</td>\n",
       "      <td>{'Monday': '11:00-21:00', 'Tuesday': '11:00-22...</td>\n",
       "      <td>1</td>\n",
       "      <td>33.454960</td>\n",
       "      <td>-112.079908</td>\n",
       "      <td>Cibo</td>\n",
       "      <td></td>\n",
       "      <td>85003</td>\n",
       "      <td>1698</td>\n",
       "      <td>4.5</td>\n",
       "      <td>AZ</td>\n",
       "      <td>True</td>\n",
       "    </tr>\n",
       "  </tbody>\n",
       "</table>\n",
       "</div>"
      ],
      "text/plain": [
       "                   address                                         attributes  \\\n",
       "2104    5223 N Central Ave  {'Alcohol': 'full_bar', 'HasTV': True, 'NoiseL...   \n",
       "66318   110 E Roosevelt St  {'RestaurantsTableService': True, 'GoodForMeal...   \n",
       "99030        308 N 2nd Ave  {'Alcohol': 'full_bar', 'HasTV': True, 'NoiseL...   \n",
       "100892    1 W Jefferson St  {'WheelchairAccessible': True, 'DogsAllowed': ...   \n",
       "145578  1513 E Apache Blvd  {'RestaurantsTableService': True, 'GoodForMeal...   \n",
       "148677      7213 E 1st Ave  {'RestaurantsTableService': True, 'GoodForMeal...   \n",
       "163683  110 E Roosevelt St  {'RestaurantsTableService': False, 'GoodForMea...   \n",
       "169376  4404 N Central Ave  {'Alcohol': 'beer_and_wine', 'HasTV': False, '...   \n",
       "171047       603 N 5th Ave  {'Alcohol': 'beer_and_wine', 'HasTV': True, 'N...   \n",
       "\n",
       "                   business_id  \\\n",
       "2104    cTJjTKz2huGZ-ElScC2pSw   \n",
       "66318   -yQHIYKXH3HAdhh1W52OMQ   \n",
       "99030   Ns20WGWn6s6niKAGIQB4UQ   \n",
       "100892  Gz9SlLqxS6wnxPvgdOQNrA   \n",
       "145578  2GmGT-7QjowR1ihup3FbVA   \n",
       "148677  sKrlmbrZWCyLIgiMihCPqw   \n",
       "163683  9Cq_NVvWZOEAzmE7tqJgmg   \n",
       "169376  lgWB0yGXpZvupYREWxtV7g   \n",
       "171047  9a3DrZvpYxVs3k_qwlCNSw   \n",
       "\n",
       "                                               categories        city  \\\n",
       "2104    [American (New), Bars, Food, Pubs, Nightlife, ...     Phoenix   \n",
       "66318   [American (New), Hot Dogs, Food, Donuts, Gastr...     Phoenix   \n",
       "99030   [Arts & Entertainment, Music Venues, Restauran...     Phoenix   \n",
       "100892  [Bars, Nightlife, Lounges, Restaurants, Cockta...     Phoenix   \n",
       "145578  [Restaurants, Mediterranean, Grocery, Middle E...       Tempe   \n",
       "148677                 [Hawaiian, Restaurants, Pan Asian]  Scottsdale   \n",
       "163683  [Restaurants, Hot Dogs, American (New), Food S...     Phoenix   \n",
       "169376          [Sandwiches, Italian, Pizza, Restaurants]     Phoenix   \n",
       "171047          [Sandwiches, Pizza, Restaurants, Italian]     Phoenix   \n",
       "\n",
       "                                                    hours  is_open   latitude  \\\n",
       "2104    {'Monday': '11:00-23:00', 'Tuesday': '11:00-23...        1  33.513575   \n",
       "66318   {'Monday': '8:00-21:00', 'Tuesday': '8:00-21:0...        1  33.458782   \n",
       "99030   {'Monday': '11:00-0:00', 'Tuesday': '11:00-0:0...        1  33.451778   \n",
       "100892  {'Tuesday': '16:00-2:00', 'Friday': '16:00-2:0...        1  33.446995   \n",
       "145578  {'Monday': '11:00-20:00', 'Tuesday': '11:00-20...        1  33.414271   \n",
       "148677  {'Monday': '11:00-22:00', 'Tuesday': '11:00-22...        1  33.493853   \n",
       "163683  {'Monday': '8:00-21:00', 'Tuesday': '8:00-21:0...        1  33.458919   \n",
       "169376  {'Monday': '11:00-15:00', 'Tuesday': '11:00-15...        1  33.500621   \n",
       "171047  {'Monday': '11:00-21:00', 'Tuesday': '11:00-22...        1  33.454960   \n",
       "\n",
       "         longitude                                      name neighborhood  \\\n",
       "2104   -112.073381                                   Windsor                \n",
       "66318  -112.072266  Short Leash Hotdogs & Rollover Doughnuts                \n",
       "99030  -112.076835                         Crescent Ballroom                \n",
       "100892 -112.073873         Bitter & Twisted Cocktail Parlour                \n",
       "145578 -111.913451                                 Haji-Baba                \n",
       "148677 -111.925625             Hula's Modern Tiki Scottsdale                \n",
       "163683 -112.072201           Short Leash Hot Dogs Food Truck                \n",
       "169376 -112.074311                               Pane Bianco                \n",
       "171047 -112.079908                                      Cibo                \n",
       "\n",
       "       postal_code  review_count  stars state  is_restaurant  \n",
       "2104         85012           977    4.0    AZ           True  \n",
       "66318        85004           413    4.0    AZ           True  \n",
       "99030        85003           493    4.0    AZ           True  \n",
       "100892       85003           683    4.0    AZ           True  \n",
       "145578       85281           720    4.5    AZ           True  \n",
       "148677       85251           509    4.0    AZ           True  \n",
       "163683       85004           401    4.5    AZ           True  \n",
       "169376       85012           479    4.0    AZ           True  \n",
       "171047       85003          1698    4.5    AZ           True  "
      ]
     },
     "execution_count": 10,
     "metadata": {},
     "output_type": "execute_result"
    }
   ],
   "source": [
    "# recommend the overlapping 5 star restaurants of neighbors to our target user\n",
    "\n",
    "# get neighbor id\n",
    "ref_id = list(nb_df.user_id.values)\n",
    "\n",
    "# get 5 star restaurants that neighbor reviewed but the target user has never been to\n",
    "\n",
    "ref_df = AZ_review.loc[(AZ_review['user_id'].isin(ref_id)) & (AZ_review['stars'] == 5)\n",
    "             &(~AZ_review['business_id'].isin(target_hist))].copy()\n",
    "\n",
    "# find those restaurants that occurs at least twice\n",
    "ref_df_c = ref_df.groupby('business_id').size().reset_index(name='counts')\n",
    "ref_r = ref_df_c[ref_df_c['counts'] >= 2]['business_id'].tolist()\n",
    "\n",
    "# ref_r is the recommend list for target user \n",
    "ref_r\n",
    "\n",
    "# get restaurant info\n",
    "restaurant = pickle.load(open('az_res.pkl', 'rb'))\n",
    "restaurant[restaurant['business_id'].isin(ref_r)]\n"
   ]
  },
  {
   "cell_type": "markdown",
   "metadata": {},
   "source": [
    "**Result Analysis**\n",
    "- The average stars for the recommended restaurants all greater than 4.0, this confirms the quality of the restaurant.\n",
    "- We obtained various types of restaurant, e.g. American(new), Arts & entertainment, bars, fast food, which is also encouraging."
   ]
  },
  {
   "cell_type": "markdown",
   "metadata": {},
   "source": [
    "Next, we use MAE & RMSE based on Cross-Validation to Evaluate the model performace. \n",
    "\n",
    "$$ MAE = \\frac{1}{N_{I_u}}\\sum|r_{ui} - pred(u,i)|$$\n",
    "\n",
    "$$ RMSE = \\sqrt{\\frac{1}{N_{I_u}}\\sum(r_{ui} - pred(u,i))^2}$$\n",
    "\n",
    "$I_u$ stands for all restaurants rated by user $u$. We firstly hold out 1 item $a \\in I_u$, then update $I_u$ as $I_u - a$, get $pred(u,a)$ and iterate this procedure for all the restaurants in $I_u$, then calculate the MAE and RMSE for the prediction. Our goal is to minimize these two criteria."
   ]
  },
  {
   "cell_type": "code",
   "execution_count": 11,
   "metadata": {},
   "outputs": [],
   "source": [
    "def get_result(u_id, co_rate, k):\n",
    "    target_id = u_id\n",
    "    \n",
    "    # creat a nested list to save the result\n",
    "    result = []\n",
    "    \n",
    "    # get this user's history as a list\n",
    "    r_hist = user_hist_df.loc[user_hist_df['user_id']== target_id].copy().iloc[0]['restaurant_history']\n",
    "  \n",
    "    n = len(r_hist)\n",
    "    for i in range(0, n): \n",
    "        \n",
    "        # mask ith item\n",
    "        r_hist_maski = r_hist[:i] + r_hist[i+1:]\n",
    "\n",
    "        # filter other users that have been to the masked item, create a dataframe to save info\n",
    "        # call them reference users\n",
    "        r_hist_maski_check_df = user_hist_df.copy()\n",
    "        r_hist_maski_check_df = r_hist_maski_check_df[r_hist_maski_check_df['restaurant_history'].apply(lambda x: r_hist[i] in x)] \n",
    "        \n",
    "\n",
    "        # drop the user itself\n",
    "        r_hist_maski_check_df = r_hist_maski_check_df[r_hist_maski_check_df.user_id != target_id]\n",
    "\n",
    "        # for each reference user, find the co-rate restaurant with target user\n",
    "        \n",
    "        overlap_list = rec.overlap(r_hist_maski,r_hist_maski_check_df)        \n",
    "        r_hist_maski_check_df['overlap'] = overlap_list\n",
    "\n",
    "        # drop the rows that has empty overlapping\n",
    "        \n",
    "        r_hist_maski_check_df = r_hist_maski_check_df[r_hist_maski_check_df.astype(str)['overlap'] != '[]'].copy()\n",
    "\n",
    "\n",
    "        # count the number of co-rate restaurant for each reference user, save it\n",
    "        overlap_count = r_hist_maski_check_df['overlap'].apply(len).tolist()\n",
    "        \n",
    "        r_hist_maski_check_df['count'] = overlap_count\n",
    "        \n",
    "        # filter the overlapping count >= count_filter(integer), given in the function\n",
    "\n",
    "        r_hist_maski_check_df = r_hist_maski_check_df.loc[r_hist_maski_check_df['count']>= co_rate].copy()\n",
    "\n",
    "        # calculate correlation with all the potential reference user\n",
    "        \n",
    "        rho_list = []\n",
    "        for j in range(0,len(r_hist_maski_check_df)):\n",
    "            rho_list.append(rec.corr_cal(u_id = r_hist_maski_check_df.iloc[j][\"user_id\"], \n",
    "                                     biz = r_hist_maski_check_df.iloc[j][\"overlap\"],\n",
    "                                     t_id = target_id,\n",
    "                                    df = AZ_review))\n",
    "        r_hist_maski_check_df['rho'] = rho_list\n",
    "        \n",
    "        # select k neighbors\n",
    "\n",
    "        r_hist_maski_check_df = r_hist_maski_check_df.sort_values('rho',ascending= False).copy().head(k)\n",
    "        r_hist_maski_check_df = r_hist_maski_check_df.loc[r_hist_maski_check_df['rho']>0].copy()\n",
    "        \n",
    "        \n",
    "        if len(r_hist_maski_check_df) == 0:\n",
    "            pred = restaurant[restaurant['business_id'] == r_hist[i]].iloc[0]['stars']\n",
    "        else:\n",
    "            \n",
    "            # get the reference users'rate for the masked restaurant\n",
    "            score_l = []\n",
    "            for j in range(0,len(r_hist_maski_check_df)):\n",
    "                score_l.append(rec.get_score(u_id = r_hist_maski_check_df.iloc[j][\"user_id\"],\n",
    "                                         biz = r_hist[i],\n",
    "                                          df = AZ_review))\n",
    "            r_hist_maski_check_df['score'] = score_l\n",
    "\n",
    "            ###### calculate pred score######\n",
    "\n",
    "            # equation 3, adjust average rate info\n",
    "\n",
    "            # get the target_user score for the mask item\n",
    "\n",
    "            target_mask_score = rec.get_score(u_id = target_id, biz = r_hist[i], df = AZ_review )\n",
    "\n",
    "            # get avg score of target_user before remove the mask item \n",
    "\n",
    "            target_avg_score = rec.get_avg_score(u_id = target_id, df = user_hist_df)\n",
    "\n",
    "            # remove the impact of the score that target user give for the mask item\n",
    "\n",
    "            target_avg_score_update = (target_avg_score * len(r_hist) - target_mask_score)/(n-1)\n",
    "\n",
    "            # calculate the modified prediction score\n",
    "\n",
    "            pred = target_avg_score_update + sum(r_hist_maski_check_df.rho * (r_hist_maski_check_df.score -r_hist_maski_check_df.average_stars))/sum(r_hist_maski_check_df.rho)\n",
    "        \n",
    "        # save the prediction score  and the true score into a list \n",
    "        \n",
    "        pred_i = [pred, target_mask_score]\n",
    "        \n",
    "        result.append(pred_i)\n",
    "    return result"
   ]
  },
  {
   "cell_type": "code",
   "execution_count": 12,
   "metadata": {},
   "outputs": [],
   "source": [
    "########## Take 2-3 minutes to run this line ########################\n",
    "#sample_result = get_result(u_id = target_id, co_rate = 2, k = 10)  #\n",
    "#pickle.dump(sample_result, open('sample_result.pkl', 'wb'))#########\n",
    "sample_result = pickle.load(open('sample_result.pkl', 'rb'))"
   ]
  },
  {
   "cell_type": "code",
   "execution_count": 13,
   "metadata": {},
   "outputs": [
    {
     "data": {
      "text/plain": [
       "0.8740275294276727"
      ]
     },
     "execution_count": 13,
     "metadata": {},
     "output_type": "execute_result"
    }
   ],
   "source": [
    "# calculate mae and rmse\n",
    "# mae \n",
    "mae_sample = (1/32) * sum([abs(item[0]- item[1]) for item in sample_result])\n",
    "mae_sample"
   ]
  },
  {
   "cell_type": "code",
   "execution_count": 14,
   "metadata": {},
   "outputs": [
    {
     "data": {
      "text/plain": [
       "1.0754111033208529"
      ]
     },
     "execution_count": 14,
     "metadata": {},
     "output_type": "execute_result"
    }
   ],
   "source": [
    "# rmse\n",
    "\n",
    "rmse_sample = m.sqrt((1/32) * sum([(item[0]- item[1])**2 for item in sample_result]))\n",
    "rmse_sample"
   ]
  },
  {
   "cell_type": "markdown",
   "metadata": {},
   "source": [
    "**Comments:**\n",
    "\n",
    "1. This method can be generated for each user in the dataset: given a `user_id`, we can get the prediction result for him/her. However, to do this through foo-loop will be time and memory consuming. Ideally, we should split the whole dataset into train set and test set and build up our model on the train set then check it's performance on the test set.\n",
    "2. We still need to decide the parameter such as number of co-rating restaurants, number of neighbors based on parameter tuning.\n",
    "\n",
    "We will borrow the power of python-package: `Surprise` that developed by *Nicolas*, etc. for the following analysis. Thanks to these genious! We can perform the model selection procedure much moooore efficiently now!\n",
    "\n",
    "[Return to the Top](#intro)   |   [Return to Section Top](#rating)"
   ]
  },
  {
   "cell_type": "markdown",
   "metadata": {},
   "source": [
    "<a id = '3.1.5'></a>\n",
    "### 3.1.5 Model Selection by Parameter Tuning"
   ]
  },
  {
   "cell_type": "code",
   "execution_count": 15,
   "metadata": {},
   "outputs": [],
   "source": [
    "from surprise import NormalPredictor\n",
    "from surprise import Dataset\n",
    "from surprise import Reader\n",
    "from surprise.model_selection import cross_validate\n",
    "from surprise import accuracy\n",
    "from surprise import KNNBasic\n",
    "from surprise import KNNWithMeans"
   ]
  },
  {
   "cell_type": "markdown",
   "metadata": {},
   "source": [
    "-  Data preparation, split into trainset(75%) and test set(25%)."
   ]
  },
  {
   "cell_type": "code",
   "execution_count": 16,
   "metadata": {},
   "outputs": [],
   "source": [
    "AZ_star = pickle.load(open('AZ_star.pkl', 'rb'))\n",
    "reader = Reader(rating_scale=(1, 5))\n",
    "data = Dataset.load_from_df(AZ_star[['user_id', 'business_id', 'stars']], reader)"
   ]
  },
  {
   "cell_type": "code",
   "execution_count": 17,
   "metadata": {},
   "outputs": [],
   "source": [
    "import random\n",
    "random.seed(7)\n",
    "# split into train and test\n",
    "\n",
    "raw_ratings = data.raw_ratings\n",
    "\n",
    "# shuffle ratings\n",
    "random.shuffle(raw_ratings)\n",
    "\n",
    "# 75% trainset, 25% testset                                                \n",
    "threshold = int(.75 * len(raw_ratings))                                     \n",
    "trainset_raw_ratings = raw_ratings[:threshold]                             \n",
    "test_raw_ratings = raw_ratings[threshold:]                                 \n",
    "\n",
    "# trainset\n",
    "data.raw_ratings = trainset_raw_ratings \n",
    "trainset = data.build_full_trainset()         \n",
    "# testset\n",
    "testset = data.construct_testset(test_raw_ratings)    "
   ]
  },
  {
   "cell_type": "markdown",
   "metadata": {},
   "source": [
    "<a id = 'pred_vs'></a>\n",
    "-  Comparision of Prediciton Rating between the different prediction functions (1) and (2)\n",
    "\n",
    "[link to the function](#3.1.3)"
   ]
  },
  {
   "cell_type": "code",
   "execution_count": 18,
   "metadata": {},
   "outputs": [
    {
     "name": "stdout",
     "output_type": "stream",
     "text": [
      "Computing the pearson similarity matrix...\n",
      "Done computing similarity matrix.\n",
      "RMSE: 1.1459\n",
      "MAE:  0.8936\n"
     ]
    },
    {
     "data": {
      "text/plain": [
       "0.89363636417558046"
      ]
     },
     "execution_count": 18,
     "metadata": {},
     "output_type": "execute_result"
    }
   ],
   "source": [
    "# knn-basic with default setting\n",
    "\n",
    "algo = KNNBasic(sim_options = {'name': 'pearson',\n",
    "                                  'user_based': True})\n",
    "algo.fit(trainset)\n",
    "predictions = algo.test(testset)\n",
    "\n",
    "# RMSE\n",
    "accuracy.rmse(predictions)\n",
    "# MAE\n",
    "accuracy.mae(predictions)"
   ]
  },
  {
   "cell_type": "code",
   "execution_count": 19,
   "metadata": {},
   "outputs": [
    {
     "name": "stdout",
     "output_type": "stream",
     "text": [
      "Computing the pearson similarity matrix...\n",
      "Done computing similarity matrix.\n",
      "RMSE: 1.0801\n",
      "MAE:  0.8299\n"
     ]
    },
    {
     "data": {
      "text/plain": [
       "0.82991971758888372"
      ]
     },
     "execution_count": 19,
     "metadata": {},
     "output_type": "execute_result"
    }
   ],
   "source": [
    "# knn-mean with default setting\n",
    "algo = KNNWithMeans(sim_options = {'name': 'pearson',\n",
    "                                  'user_based': True})\n",
    "algo.fit(trainset)\n",
    "predictions = algo.test(testset)\n",
    "\n",
    "# RMSE\n",
    "accuracy.rmse(predictions)\n",
    "# MAE\n",
    "accuracy.mae(predictions)"
   ]
  },
  {
   "cell_type": "markdown",
   "metadata": {},
   "source": [
    "**Comments:**\n",
    "\n",
    "1. The Result above verified that it is neccessary to adjust user's personal rating scheme. By doing that, we improved both the RMSE and MAE. We will carry on the analyis based on method 2.\n",
    "\n",
    "2. Also, the previous analysis used the default setting, such as `min_support` = 1(lower limit of co-rating restaurants), `min_k` = 1 (lower limit of neighbours), and `k` = 40. We will use the famous *GridSearchCV* to do the parameter tuning."
   ]
  },
  {
   "cell_type": "markdown",
   "metadata": {},
   "source": [
    "- Use *k* = 40, find best `min_k` and `min_support`"
   ]
  },
  {
   "cell_type": "code",
   "execution_count": 20,
   "metadata": {},
   "outputs": [],
   "source": [
    "# try parameter tuning for KNNWithMeans, use k = 40 \n",
    "#################################\n",
    "### running time: 5-10 min   ####\n",
    "#################################\n",
    "from surprise.model_selection import GridSearchCV\n",
    "param_grid = {'k': [40],    # default setting,\n",
    "              'min_k': [1,3,5,10,15], # try different minimum number of neighbors,\n",
    "              'sim_options': {'name': ['pearson'],\n",
    "                              'min_support': [1,3,5], # try different minumber number of co-rates,\n",
    "                              'user_based': [True]\n",
    "                             }\n",
    "             }\n",
    "\n",
    "# tune parameter\n",
    "# gs = GridSearchCV(KNNWithMeans, param_grid, measures = ['rmse','mae'], cv=5)\n",
    "\n",
    "# gs.fit(data) # here data is already switch to trainset by data.raw_ratings = trainset_raw_ratings \n",
    "\n",
    "# # print best score\n",
    "# print(gs.best_score)\n",
    "\n",
    "# # combination of parameters that gave the best RMSE score\n",
    "# print(gs.best_params)\n",
    "\n",
    "# save the result into dataframe\n",
    "#choose_min_k_support = pd.DataFrame.from_dict(gs.cv_results)\n",
    "\n",
    "#pickle.dump(choose_min_k_support, open('choose_min_k_support.pkl', 'wb'))"
   ]
  },
  {
   "cell_type": "code",
   "execution_count": 21,
   "metadata": {
    "scrolled": false
   },
   "outputs": [
    {
     "data": {
      "image/png": "[encoded data removed]",
      "text/plain": [
       "<matplotlib.figure.Figure at 0x11d8b57b8>"
      ]
     },
     "metadata": {
      "needs_background": "light"
     },
     "output_type": "display_data"
    }
   ],
   "source": [
    "# plot the rmse and mse\n",
    "choose_min_k_support = pickle.load(open('choose_min_k_support.pkl', 'rb'))\n",
    "cv_info = choose_min_k_support[['mean_fit_time','mean_test_time','mean_test_mae','mean_test_rmse',\n",
    "                              'param_k','param_min_k','param_sim_options']].copy()\n",
    "cv_info = pd.concat([cv_info.drop(['param_sim_options'], axis=1), cv_info['param_sim_options'].apply(pd.Series)], axis=1).drop(['name','user_based'],axis = 1)\n",
    "cv_info.set_index('param_min_k', inplace=True)\n",
    "g = cv_info.groupby('min_support')\n",
    "\n",
    "fig, ax = plt.subplots(2,2,figsize=(15,10))\n",
    "g['mean_test_rmse'].plot(legend=True, ax = ax[0,0], title = 'RMSE for min_support = 1,3,5')\n",
    "g['mean_test_mae'].plot(legend=True, ax = ax[0,1], title = 'MAE for min_support = 1,3,5')\n",
    "g['mean_fit_time'].plot(legend=True, ax = ax[1,0], title = 'fit_time for min_support = 1,3,5')\n",
    "g['mean_test_time'].plot(legend=True, ax = ax[1,1], title = 'test_time for min_support = 1,3,5')\n",
    "ax[0,0].set(xlabel =\"min_k\", xticks = [1,3,5,10,15])\n",
    "ax[0,1].set(xlabel = \"min_k\", xticks = [1,3,5,10,15])\n",
    "ax[1,0].set(xlabel = \"min_k\", xticks = [1,3,5,10,15])\n",
    "ax[1,1].set(xlabel = \"min_k\", xticks = [1,3,5,10,15])\n",
    "plt.show()\n"
   ]
  },
  {
   "cell_type": "markdown",
   "metadata": {},
   "source": [
    "**Comments:**\n",
    "1. From the top two graphs, we could see that as the number of min_neighbors for prediction increases, both the MAE and RMSE decrease, and reach to the smallest value when `min_k` = 10.\n",
    "2. `min_support` = 1 gives the best performance, however the training time for it is the maximum, we can see from the left bottom plot. That is because the algorithm is applied to every pair of users as long as they have 1 co-rating restaurant. It is interesting that the test time for it is acceptable short when `min_k` = 10. \n",
    "3. We want to balance the performance of the model and the resource efficency. Thus we will choose `min_k` = 10 and `min_support` =1, then try to find the optimal *k* (upper limit of the neighbors)."
   ]
  },
  {
   "cell_type": "code",
   "execution_count": 22,
   "metadata": {},
   "outputs": [],
   "source": [
    "# select min_k = 10, min_support = 1, find optimal k\n",
    "# from surprise.model_selection import GridSearchCV\n",
    "# param_grid = {'k': list(np.arange(5,60,step = 5)),    \n",
    "#               'min_k': [10], \n",
    "#               'sim_options': {'name': ['pearson'],\n",
    "#                               'min_support': [1],\n",
    "#                               'user_based': [True]\n",
    "#                              }\n",
    "#              }\n",
    "\n",
    "# # tune parameter\n",
    "# gs = GridSearchCV(KNNWithMeans, param_grid, measures = ['rmse','mae'], cv=5)\n",
    "\n",
    "# gs.fit(data) # here data is already switch to trainset by data.raw_ratings = trainset_raw_ratings \n",
    "\n",
    "# # save the result into dataframe\n",
    "# choose_k = pd.DataFrame.from_dict(gs.cv_results)\n",
    "\n",
    "\n",
    "# pickle.dump(choose_k, open('choose_k.pkl', 'wb'))"
   ]
  },
  {
   "cell_type": "code",
   "execution_count": 23,
   "metadata": {},
   "outputs": [],
   "source": [
    "choose_k = pickle.load(open('choose_k.pkl', 'rb'))\n",
    "choose_k = choose_k[['mean_fit_time','mean_test_time','mean_test_mae','mean_test_rmse',\n",
    "                     'param_k','param_min_k','param_sim_options']].copy()\n",
    "choose_k = pd.concat([choose_k.drop(['param_sim_options'], axis=1), choose_k['param_sim_options'].apply(pd.Series)], axis=1).drop(['name','user_based'],axis = 1)"
   ]
  },
  {
   "cell_type": "code",
   "execution_count": 24,
   "metadata": {},
   "outputs": [
    {
     "data": {
      "text/plain": [
       "[<matplotlib.text.Text at 0x12d67e8d0>,\n",
       " <matplotlib.text.Text at 0x12d66e080>,\n",
       " <matplotlib.text.Text at 0x12d69e8d0>]"
      ]
     },
     "execution_count": 24,
     "metadata": {},
     "output_type": "execute_result"
    },
    {
     "data": {
      "image/png": "[encoded data removed]",
      "text/plain": [
       "<matplotlib.figure.Figure at 0x14afd9128>"
      ]
     },
     "metadata": {},
     "output_type": "display_data"
    }
   ],
   "source": [
    "import matplotlib.pyplot as plt\n",
    "import seaborn as s\n",
    "fig, ax = plt.subplots(2,2,figsize=(10,10))\n",
    "s.pointplot(x=\"param_k\", y=\"mean_test_rmse\", data=choose_k, ax = ax[0,0])\n",
    "s.pointplot(x=\"param_k\", y=\"mean_test_mae\", data=choose_k, ax = ax[0,1])\n",
    "s.pointplot(x=\"param_k\", y=\"mean_fit_time\", data=choose_k, ax = ax[1,0])\n",
    "s.pointplot(x=\"param_k\", y=\"mean_test_time\", data=choose_k, ax = ax[1,1])\n",
    "ax[0,0].set(xlabel='k', ylabel='RMSE',title = 'RMSE')\n",
    "ax[0,1].set(xlabel='k', ylabel='MAE', title = 'MAE')\n",
    "ax[1,0].set(xlabel='k', ylabel='fit_time', title = 'Fitting Time')\n",
    "ax[1,1].set(xlabel='k', ylabel='test_time', title = 'Test Time')"
   ]
  },
  {
   "cell_type": "markdown",
   "metadata": {},
   "source": [
    "**Comments:**\n",
    "1. RMSE and MAE decrease as `k` increases and tends to be stable after `k` = 40. \n",
    "2. The fitting time reaches to maximum when `k` = 35, but then decreases again, similar behavior is shown for the test time.\n",
    "3. Again, consider both the accuracy and efficiency, we decide to keep the default setting `k` =40. And our final model for the train set is `k ` = 40, `min_k` =10, `min_support` = 1."
   ]
  },
  {
   "cell_type": "code",
   "execution_count": 25,
   "metadata": {
    "scrolled": false
   },
   "outputs": [
    {
     "name": "stdout",
     "output_type": "stream",
     "text": [
      "Computing the pearson similarity matrix...\n",
      "Done computing similarity matrix.\n",
      "RMSE: 1.0387\n",
      "MAE:  0.8062\n"
     ]
    },
    {
     "data": {
      "text/plain": [
       "0.80623245193251891"
      ]
     },
     "execution_count": 25,
     "metadata": {},
     "output_type": "execute_result"
    }
   ],
   "source": [
    "# choose k = 40, min_k  = 10\n",
    "algo = KNNWithMeans(k = 40,\n",
    "                    min_k = 10,\n",
    "                    sim_options = {'name': 'pearson',\n",
    "                                  'user_based': True})\n",
    "algo.fit(trainset)\n",
    "predictions = algo.test(testset)\n",
    "\n",
    "# RMSE\n",
    "accuracy.rmse(predictions)\n",
    "# MAE\n",
    "accuracy.mae(predictions)"
   ]
  },
  {
   "cell_type": "markdown",
   "metadata": {},
   "source": [
    "Compared to the default setting, we decrease the the RMSE from 1.0801 to 1.0387, and the MAE from 0.8299 to 0.8062. The prediction result is summarized below.\n"
   ]
  },
  {
   "cell_type": "markdown",
   "metadata": {},
   "source": [
    "<a id = '3.1.6'></a>\n",
    "### 3.1.6 Discussion about Rating-based Recommendation System\n",
    "\n",
    "So far, we use user's rating as the feature for neighborhood selection, and this method requires co-rating restaurants for similarity calculation. The recommendation system we built can be useful for the residents live in Arizona, which is good, but what about those travelers that never been to Arizona before? It is highly possible that these users have no co-rating restaurants with the users lived in Arizona. Then our recommendation system might not work for them. To overcome this geographical limit in our system, we propose other methods that not relied on the co-rating. \n",
    "\n",
    "Yelp dataset not only gives the rating of the user, but also offers user's text review about the restaurant. Our idea is to concatenate all the text reviews for each user, then perform topic modeling to cluster these users into different groups. Also, the restaurants have different features, by analyzing these features, we are able to perform clustering too. Consider that text reviews and the business categories are have different properties when applied to the user similarity analysis, we decide to perform both clustering seperately.\n",
    "\n",
    "\n",
    "[Return to the Top](#intro)   |   [Return to Section Top](#rating)"
   ]
  },
  {
   "cell_type": "markdown",
   "metadata": {},
   "source": [
    "<a id = '3.2'></a>\n",
    "\n",
    "## 3.2 Topic modeling of Review Data\n",
    "\n",
    "Our topic modeling is focusing on customers preferred similar features and group them together to make a recommendation. Thus, we will only do text mining in good reviews."
   ]
  },
  {
   "cell_type": "code",
   "execution_count": 26,
   "metadata": {
    "scrolled": true
   },
   "outputs": [
    {
     "name": "stdout",
     "output_type": "stream",
     "text": [
      "[nltk_data] Downloading package stopwords to\n",
      "[nltk_data]     /Users/wangqi.shania/nltk_data...\n",
      "[nltk_data]   Package stopwords is already up-to-date!\n",
      "[nltk_data] Downloading package punkt to\n",
      "[nltk_data]     /Users/wangqi.shania/nltk_data...\n",
      "[nltk_data]   Package punkt is already up-to-date!\n"
     ]
    }
   ],
   "source": [
    "import numpy as np\n",
    "import json\n",
    "import pandas as pd\n",
    "import ast\n",
    "import csv\n",
    "import matplotlib.pyplot as plt\n",
    "from __future__ import print_function\n",
    "from time import time\n",
    "from sklearn.feature_extraction.text import TfidfVectorizer, CountVectorizer\n",
    "from sklearn.decomposition import NMF, LatentDirichletAllocation\n",
    "from sklearn.datasets import fetch_20newsgroups\n",
    "from sklearn.feature_extraction import text\n",
    "import nltk\n",
    "nltk.download('stopwords')\n",
    "nltk.download('punkt') # tockenizer\n",
    "import re\n",
    "import string\n",
    "from nltk.stem import WordNetLemmatizer\n",
    "from contractions2 import CONTRACTION_MAP\n",
    "from sklearn.feature_extraction.stop_words import ENGLISH_STOP_WORDS\n",
    "import re\n",
    "from urllib import request\n",
    "from nltk import pos_tag\n",
    "from nltk.corpus import wordnet as wn\n",
    "from scipy.sparse import csr_matrix\n",
    "from scipy.cluster.hierarchy import dendrogram, linkage\n",
    "from scipy.spatial.distance import pdist\n",
    "from scipy.cluster.hierarchy import fcluster\n",
    "import collections\n",
    "from sklearn.metrics import silhouette_samples, silhouette_score\n",
    "wnl = WordNetLemmatizer()\n",
    "\n",
    "\n",
    "#################################################\n",
    "# Cleaning all the review history, it will take # \n",
    "# about 10 hours, we have save the clean text   #\n",
    "# into a pickle called text.pkl                 #\n",
    "#################################################\n"
   ]
  },
  {
   "cell_type": "markdown",
   "metadata": {},
   "source": [
    "<a id = '3.2.1'></a>\n",
    "### 3.2.1 Review data pre-possessing"
   ]
  },
  {
   "cell_type": "code",
   "execution_count": 27,
   "metadata": {},
   "outputs": [],
   "source": [
    "user_review = pickle.load( open( \"r20_dfh.pkl\", \"rb\" ) )\n",
    "text = pickle.load(open ('text.pkl', 'rb'))"
   ]
  },
  {
   "cell_type": "code",
   "execution_count": 28,
   "metadata": {},
   "outputs": [],
   "source": [
    "# Applying TF-IDF which penalize too low and high frequency terms\n",
    "tfidf_vectorizer = TfidfVectorizer(max_df=0.95,min_df=0.05)\n",
    "tfidf = tfidf_vectorizer.fit_transform(text)"
   ]
  },
  {
   "cell_type": "code",
   "execution_count": 29,
   "metadata": {},
   "outputs": [],
   "source": [
    "# Get the words (feature names)\n",
    "tfidf_feature_names = tfidf_vectorizer.get_feature_names()\n",
    "tfidf_feature_names1 = [text.replace(\" \", \"_\") for text in tfidf_feature_names]"
   ]
  },
  {
   "cell_type": "code",
   "execution_count": 30,
   "metadata": {},
   "outputs": [],
   "source": [
    "def print_top_words(model, feature_names, n_top_words):\n",
    "    for topic_idx, topic in enumerate(model.components_):\n",
    "        print(\"Topic #%d:\" % topic_idx)\n",
    "        print(\" \".join([feature_names[i]\n",
    "                        for i in topic.argsort()[:-n_top_words - 1:-1]]))\n",
    "    print()\n",
    "    \n",
    "def get_top_words(model, feature_names, n_top_words):\n",
    "    for topic_idx, topic in enumerate(model.components_):\n",
    "        print(\"Topic #%d:\" % topic_idx)\n",
    "        print(\" \".join([feature_names[i]\n",
    "                        for i in topic.argsort()[:-n_top_words - 1:-1]]))\n",
    "    print()"
   ]
  },
  {
   "cell_type": "markdown",
   "metadata": {},
   "source": [
    "<a id = '3.2.2'></a>\n",
    "### 3.2.2 NMF- Topic Modeling"
   ]
  },
  {
   "cell_type": "code",
   "execution_count": 33,
   "metadata": {},
   "outputs": [
    {
     "name": "stdout",
     "output_type": "stream",
     "text": [
      "Topic #0:\n",
      "order just come sauce make chicken cheese fry eat say flavor think burger know want little\n",
      "Topic #1:\n",
      "come dish restaurant order noodle flavour definitely rice really taste chicken soup ramen sushi favourite price\n",
      "Topic #2:\n",
      "love delicious come really definitely order amazing husband friendly awesome amaze best favorite super chicken staff\n",
      "Topic #3:\n",
      "beer bar restaurant menu excellent nice price make best staff friendly selection really drink wine just\n",
      "Topic #4:\n",
      "le la pour au plat par plus café pas vega restaurant cuisine décor montreal poutine son\n",
      "\n"
     ]
    }
   ],
   "source": [
    "# constructing NMF model with 5 bases\n",
    "nmf5 = NMF(n_components=5, random_state=1,\n",
    "          alpha=.1, l1_ratio=.5).fit(tfidf)\n",
    "print_top_words(nmf5, tfidf_feature_names1, 16)"
   ]
  },
  {
   "cell_type": "code",
   "execution_count": 34,
   "metadata": {},
   "outputs": [
    {
     "name": "stdout",
     "output_type": "stream",
     "text": [
      "Topic #0:\n",
      "really just say think pretty eat know thing make come love want little people pizza look\n",
      "Topic #1:\n",
      "dish flavour come noodle really restaurant favourite rice definitely ramen taste sushi soup price pork pretty\n",
      "Topic #2:\n",
      "love delicious husband amazing favorite amaze really definitely yummy super friendly best awesome staff salad fresh\n",
      "Topic #3:\n",
      "menu make restaurant table just dish meal wine serve visit enjoy experience salad order bar know\n",
      "Topic #4:\n",
      "chicken sauce order cheese fry flavor salad burger fresh beef onion sandwich pork rice potato sweet\n",
      "Topic #5:\n",
      "le la pour au plat par plus café pas restaurant montreal décor poutine cuisine son carte\n",
      "Topic #6:\n",
      "excellent wife friendly price staff best pizza restaurant nice clean fresh lunch quality location burger chicken\n",
      "Topic #7:\n",
      "order come definitely wait server table seat drink friend friendly decide minute location boyfriend busy chicken\n",
      "Topic #8:\n",
      "vega la buffet strip best sushi steak casino favorite restaurant crab hotel town flavor rib lobster\n",
      "Topic #9:\n",
      "beer bar drink selection hour nice really happy pretty burger tap patio bartender night spot awesome\n",
      "\n"
     ]
    }
   ],
   "source": [
    "# constructing NMF model with 5 bases\n",
    "nmf10 = NMF(n_components=10, random_state=1,\n",
    "          alpha=.1, l1_ratio=.5).fit(tfidf)\n",
    "print_top_words(nmf10, tfidf_feature_names1, 16)"
   ]
  },
  {
   "cell_type": "markdown",
   "metadata": {},
   "source": [
    "- Comparing NMF 5 topics and 10 topics, we found all 5 topics are unique, which may indicate some information are hiding within some topics. For ten topics, there are some overlaping in between, thus, we use 8 topic models"
   ]
  },
  {
   "cell_type": "markdown",
   "metadata": {},
   "source": [
    "<a id = '3.2.3'></a>\n",
    "### 3.2.3 LDA - Topic Modeling and Comparison with NMF"
   ]
  },
  {
   "cell_type": "code",
   "execution_count": 35,
   "metadata": {},
   "outputs": [
    {
     "name": "stdout",
     "output_type": "stream",
     "text": [
      "\n",
      "Topics in LDA model:\n",
      "Topic #0:\n",
      "sauce dish cheese make order sweet flavor serve menu salad just bread dessert fresh restaurant meal\n",
      "Topic #1:\n",
      "come order restaurant dish really chicken definitely taste price rice make noodle just pretty bit nice\n",
      "Topic #2:\n",
      "love delicious really come order definitely just make drink amazing nice friendly super wait friend little\n",
      "Topic #3:\n",
      "just make know say come think eat thing order really want look pretty little people way\n",
      "Topic #4:\n",
      "restaurant menu bar best price make beer staff friendly nice experience excellent selection atmosphere location spot\n",
      "Topic #5:\n",
      "la le vega pour au restaurant plus menu plat casino par buffet table strip hotel café\n",
      "Topic #6:\n",
      "order chicken lunch come nice pizza salad cheese fry table burger restaurant meal menu really sandwich\n",
      "Topic #7:\n",
      "chicken order come love sauce best just flavor fry eat really favorite make fresh rice taste\n",
      "\n"
     ]
    }
   ],
   "source": [
    "# In this case, we are comparing NMF model with LDA model with 8 topics\n",
    "tf_vectorizer = CountVectorizer(max_df=0.95, min_df=0.05)\n",
    "tf = tf_vectorizer.fit_transform(text)\n",
    "lda8 = LatentDirichletAllocation(n_topics=8, max_iter=5,\n",
    "                                learning_method='online',\n",
    "                                learning_offset=50.)\n",
    "lda8.fit(tf)\n",
    "print(\"\\nTopics in LDA model:\")\n",
    "tf_feature_names = tf_vectorizer.get_feature_names()\n",
    "print_top_words(lda8, tf_feature_names, 16)"
   ]
  },
  {
   "cell_type": "markdown",
   "metadata": {},
   "source": [
    "- From the result in LDA model, there are still some overlaping in topics. "
   ]
  },
  {
   "cell_type": "code",
   "execution_count": 36,
   "metadata": {},
   "outputs": [],
   "source": [
    "def non_negative_marix_decomp(n_components,train_data):\n",
    "    import sklearn.decomposition as skld\n",
    "    model = skld.NMF(n_components=n_components, \n",
    "                     init='nndsvda', max_iter=500, \n",
    "                     random_state=0)\n",
    "    W = model.fit_transform(train_data)\n",
    "    H = model.components_\n",
    "    nmf = (W,H)\n",
    "    return(nmf)"
   ]
  },
  {
   "cell_type": "code",
   "execution_count": 37,
   "metadata": {},
   "outputs": [],
   "source": [
    "w8,h8 = non_negative_marix_decomp(8,tfidf.T)\n",
    "h8 /= h8.sum(0)"
   ]
  },
  {
   "cell_type": "code",
   "execution_count": 38,
   "metadata": {},
   "outputs": [
    {
     "name": "stdout",
     "output_type": "stream",
     "text": [
      "# Topic 0\n",
      "really 1.41417258906\n",
      "just 1.3686202941\n",
      "pretty 0.82807155324\n",
      "say 0.787461291706\n",
      "think 0.760703452868\n",
      "eat 0.723111802433\n",
      "know 0.711847936942\n",
      "thing 0.692081462227\n",
      "make 0.655823651154\n",
      "come 0.610900639201\n",
      "want 0.594714535434\n",
      "little 0.585531904526\n",
      "people 0.487510909284\n",
      "pizza 0.475623271735\n",
      "love 0.452902267934\n",
      "star 0.436266425666\n",
      "\n",
      "\n",
      "# Topic 1\n",
      "dish 1.08261010797\n",
      "flavour 0.889778855697\n",
      "come 0.860583347439\n",
      "noodle 0.860035388494\n",
      "restaurant 0.846584560386\n",
      "really 0.744332378163\n",
      "ramen 0.656655014497\n",
      "favourite 0.639844970853\n",
      "rice 0.635088754856\n",
      "taste 0.627306566719\n",
      "definitely 0.612433759835\n",
      "sushi 0.606471991652\n",
      "soup 0.588782586574\n",
      "bit 0.54273329489\n",
      "pork 0.524555467653\n",
      "price 0.522394366521\n",
      "\n",
      "\n",
      "# Topic 2\n",
      "love 2.25513457147\n",
      "delicious 1.40411677045\n",
      "really 0.813258928421\n",
      "amazing 0.775621010182\n",
      "husband 0.691783844934\n",
      "definitely 0.679550366874\n",
      "amaze 0.620269408468\n",
      "favorite 0.608172127066\n",
      "super 0.582244752039\n",
      "awesome 0.545467172752\n",
      "friendly 0.534746818668\n",
      "yummy 0.523611711098\n",
      "come 0.487043438624\n",
      "best 0.474360023786\n",
      "staff 0.429489628275\n",
      "recommend 0.426734034307\n",
      "\n",
      "\n",
      "# Topic 3\n",
      "beer 1.05733831536\n",
      "bar 1.00612636049\n",
      "menu 0.865074394892\n",
      "wine 0.699607896663\n",
      "drink 0.596221880489\n",
      "table 0.594856937378\n",
      "make 0.536495184169\n",
      "restaurant 0.535888525273\n",
      "night 0.515928377824\n",
      "selection 0.497346499127\n",
      "patio 0.49253547712\n",
      "option 0.454568223096\n",
      "enjoy 0.406503669948\n",
      "cocktail 0.3973316695\n",
      "dinner 0.386721425467\n",
      "coffee 0.381816290331\n",
      "\n",
      "\n",
      "# Topic 4\n",
      "sauce 0.75264862043\n",
      "chicken 0.71160884489\n",
      "order 0.690696751727\n",
      "cheese 0.578433565187\n",
      "flavor 0.567525105249\n",
      "fry 0.518044505014\n",
      "salad 0.452854633087\n",
      "fresh 0.378146572564\n",
      "bread 0.346530949953\n",
      "sweet 0.345200908975\n",
      "delicious 0.343494248795\n",
      "onion 0.341499825072\n",
      "potato 0.341128974664\n",
      "burger 0.328523506297\n",
      "beef 0.325498672249\n",
      "pork 0.324447738715\n",
      "\n",
      "\n",
      "# Topic 5\n",
      "le 2.63555430973\n",
      "la 1.10274389495\n",
      "pour 0.902065308552\n",
      "au 0.531381680961\n",
      "plat 0.257571734499\n",
      "par 0.206384077691\n",
      "vega 0.203932720427\n",
      "plus 0.200464176064\n",
      "café 0.189712781666\n",
      "pas 0.158662805066\n",
      "restaurant 0.135386735896\n",
      "montreal 0.0941560898247\n",
      "cuisine 0.0890012821168\n",
      "décor 0.0868483056163\n",
      "poutine 0.0845423466823\n",
      "son 0.0754071378382\n",
      "\n",
      "\n",
      "# Topic 6\n",
      "excellent 1.25981154797\n",
      "wife 1.04244667125\n",
      "best 1.00176129397\n",
      "price 0.962079960998\n",
      "friendly 0.861223216368\n",
      "pizza 0.838199603025\n",
      "restaurant 0.830361174639\n",
      "staff 0.818861290183\n",
      "nice 0.672492979288\n",
      "fresh 0.581457110719\n",
      "quality 0.563851851988\n",
      "clean 0.55311158511\n",
      "burger 0.540621533618\n",
      "lunch 0.52165930445\n",
      "location 0.496434786263\n",
      "recommend 0.469920698332\n",
      "\n",
      "\n",
      "# Topic 7\n",
      "order 2.55209074532\n",
      "come 1.60480281047\n",
      "wait 0.597613385856\n",
      "definitely 0.588741170008\n",
      "table 0.566998650413\n",
      "server 0.543315994071\n",
      "seat 0.507540224952\n",
      "friend 0.463893246362\n",
      "drink 0.435382582529\n",
      "decide 0.411202616929\n",
      "location 0.410356309684\n",
      "minute 0.405887438228\n",
      "restaurant 0.3976251348\n",
      "lunch 0.390821500497\n",
      "make 0.370641689918\n",
      "ask 0.369371854366\n",
      "\n",
      "\n"
     ]
    }
   ],
   "source": [
    "feature_names = [text.replace(\" \", \"_\") for text in tfidf_feature_names]\n",
    "num_top_words = 16\n",
    "num_topics = 8\n",
    "word_topic = w8\n",
    "fontsize_base = 15# / np.max(word_topic) # font size for word with largest share in corpus\n",
    "\n",
    "for t in range(0, num_topics):\n",
    "    top_words_idx = np.argsort(word_topic[:,t])[::-1]  # descending order\n",
    "    top_words_idx = top_words_idx[:num_top_words]\n",
    "    top_words = [feature_names[k] for k in top_words_idx]\n",
    "    top_words_shares = word_topic[top_words_idx, t]\n",
    "    print('# Topic', t)\n",
    "    for i, (word, share) in enumerate(zip(top_words, top_words_shares)):\n",
    "        print(word, share)\n",
    "    print('\\n')"
   ]
  },
  {
   "cell_type": "markdown",
   "metadata": {},
   "source": [
    "- In comparison with LDA 8 topic model, NMF gives distinct models. Thus, we prefer to use NMF for our topic modeling. We will use NMF model to cluster all users. We focus on the H matrix, which includes each user's weight for 8 topics, applying hierarchical clustering method."
   ]
  },
  {
   "cell_type": "markdown",
   "metadata": {},
   "source": [
    "<a id = '3.2.4'></a>\n",
    "### 3.2.4 Clustering Based on NMF"
   ]
  },
  {
   "cell_type": "code",
   "execution_count": 39,
   "metadata": {},
   "outputs": [
    {
     "data": {
      "image/png": "[encoded data removed]",
      "text/plain": [
       "<matplotlib.figure.Figure at 0x13a88c710>"
      ]
     },
     "metadata": {},
     "output_type": "display_data"
    }
   ],
   "source": [
    "Z = linkage(h8.T,method='complete',metric='correlation') # transpose the H matrix\n",
    "\n",
    "plt.title('Hierarchical Clustering Dendrogram for all users')\n",
    "plt.xlabel('user')\n",
    "plt.ylabel('Distance')\n",
    "dendrogram(\n",
    "    Z,\n",
    "    leaf_rotation=90.,  # rotates the x axis labels\n",
    "    leaf_font_size=8.,\n",
    "    no_labels = True# font size for the x axis labels\n",
    ")\n",
    "plt.show()"
   ]
  },
  {
   "cell_type": "code",
   "execution_count": 40,
   "metadata": {},
   "outputs": [],
   "source": [
    "no_max_clust = 8 \n",
    "cluster_id = fcluster(Z,no_max_clust,criterion='maxclust')"
   ]
  },
  {
   "cell_type": "code",
   "execution_count": 41,
   "metadata": {},
   "outputs": [],
   "source": [
    "w20,h20 = non_negative_marix_decomp(20,tfidf.T)"
   ]
  },
  {
   "cell_type": "code",
   "execution_count": 42,
   "metadata": {},
   "outputs": [
    {
     "data": {
      "image/png": "[encoded data removed]",
      "text/plain": [
       "<matplotlib.figure.Figure at 0x13aea8ef0>"
      ]
     },
     "metadata": {},
     "output_type": "display_data"
    }
   ],
   "source": [
    "Z2 = linkage(h20.T,method='complete',metric='correlation') # transpose the matrix\n",
    "\n",
    "plt.title('Hierarchical Clustering Dendrogram for all users')\n",
    "plt.xlabel('user')\n",
    "plt.ylabel('Distance')\n",
    "dendrogram(\n",
    "    Z2,\n",
    "    leaf_rotation=90.,  # rotates the x axis labels\n",
    "    leaf_font_size=8.,\n",
    "    no_labels = True# font size for the x axis labels\n",
    ")\n",
    "plt.show()\n",
    "no_max_clust = 20\n",
    "cluster_id2 = fcluster(Z2,no_max_clust,criterion='maxclust')\n",
    "labels2 = np.argmax(h20,axis = 0)"
   ]
  },
  {
   "cell_type": "code",
   "execution_count": 43,
   "metadata": {},
   "outputs": [
    {
     "name": "stdout",
     "output_type": "stream",
     "text": [
      "Counter({7: 5111, 8: 2825, 2: 2180, 6: 1758, 3: 1753, 4: 1638, 5: 791, 1: 179})\n"
     ]
    }
   ],
   "source": [
    "counter=collections.Counter(cluster_id)\n",
    "print(counter)"
   ]
  },
  {
   "cell_type": "code",
   "execution_count": 44,
   "metadata": {},
   "outputs": [
    {
     "name": "stdout",
     "output_type": "stream",
     "text": [
      "Counter({2: 1441, 9: 1343, 7: 1217, 4: 1181, 17: 1097, 3: 979, 16: 968, 6: 942, 18: 908, 8: 899, 5: 763, 12: 713, 11: 565, 14: 535, 15: 519, 1: 483, 20: 474, 19: 471, 10: 446, 13: 291})\n"
     ]
    }
   ],
   "source": [
    "counter=collections.Counter(cluster_id2)\n",
    "print(counter)"
   ]
  },
  {
   "cell_type": "code",
   "execution_count": 45,
   "metadata": {},
   "outputs": [
    {
     "data": {
      "text/plain": [
       "0.0039983336743475064"
      ]
     },
     "execution_count": 45,
     "metadata": {},
     "output_type": "execute_result"
    }
   ],
   "source": [
    "silhouette_score(tfidf, cluster_id)"
   ]
  },
  {
   "cell_type": "code",
   "execution_count": 46,
   "metadata": {},
   "outputs": [
    {
     "data": {
      "text/plain": [
       "-0.0064869655208650455"
      ]
     },
     "execution_count": 46,
     "metadata": {},
     "output_type": "execute_result"
    }
   ],
   "source": [
    "silhouette_score(tfidf, cluster_id2)"
   ]
  },
  {
   "cell_type": "markdown",
   "metadata": {},
   "source": [
    "By comparison between the silhouette score, the 8 clusters give a smaller silhouette score than 20 clusters, which means 8 cluster is more suitable than 20. From the distribution of 8 clusters above, we found the lagest cluster have more than 5000 users, while the minority group has only 179 users. Next, we will assign labels to users. Users with the same label belong to the same cluster.\n",
    "\n",
    "[Return to the Top](#intro)   |   [Return to Section Top](#textmining)"
   ]
  },
  {
   "cell_type": "code",
   "execution_count": 47,
   "metadata": {},
   "outputs": [
    {
     "data": {
      "text/html": [
       "<div>\n",
       "<style>\n",
       "    .dataframe thead tr:only-child th {\n",
       "        text-align: right;\n",
       "    }\n",
       "\n",
       "    .dataframe thead th {\n",
       "        text-align: left;\n",
       "    }\n",
       "\n",
       "    .dataframe tbody tr th {\n",
       "        vertical-align: top;\n",
       "    }\n",
       "</style>\n",
       "<table border=\"1\" class=\"dataframe\">\n",
       "  <thead>\n",
       "    <tr style=\"text-align: right;\">\n",
       "      <th></th>\n",
       "      <th>review_history</th>\n",
       "      <th>user_id</th>\n",
       "      <th>review</th>\n",
       "      <th>cluster</th>\n",
       "    </tr>\n",
       "  </thead>\n",
       "  <tbody>\n",
       "    <tr>\n",
       "      <th>12259</th>\n",
       "      <td>[I love weiners! The pastrami is pretty good t...</td>\n",
       "      <td>k1FxBPNVosnWJHttRNdvPQ</td>\n",
       "      <td>I love weiners! The pastrami is pretty good to...</td>\n",
       "      <td>1</td>\n",
       "    </tr>\n",
       "    <tr>\n",
       "      <th>11726</th>\n",
       "      <td>[Bon restaurant grec avec un décor méditerrané...</td>\n",
       "      <td>hv2FYLSr351y_XhXRXlmuQ</td>\n",
       "      <td>Bon restaurant grec avec un décor méditerranée...</td>\n",
       "      <td>1</td>\n",
       "    </tr>\n",
       "    <tr>\n",
       "      <th>2868</th>\n",
       "      <td>[OO que oui,c'est une belle boulangerie que c'...</td>\n",
       "      <td>9xM8upr_n9jchUDKxqSGHw</td>\n",
       "      <td>OO que oui,c'est une belle boulangerie que c'e...</td>\n",
       "      <td>1</td>\n",
       "    </tr>\n",
       "    <tr>\n",
       "      <th>8831</th>\n",
       "      <td>[Une belle surprise juste à côté de chez moi. ...</td>\n",
       "      <td>XOgqs74hkbXT54mSp7JMRA</td>\n",
       "      <td>Une belle surprise juste à côté de chez moi. E...</td>\n",
       "      <td>1</td>\n",
       "    </tr>\n",
       "    <tr>\n",
       "      <th>5823</th>\n",
       "      <td>[Bon resto indien, bon rapport qualité / prix ...</td>\n",
       "      <td>La1ggB37gvq6UWpEWaMtMA</td>\n",
       "      <td>Bon resto indien, bon rapport qualité / prix !...</td>\n",
       "      <td>1</td>\n",
       "    </tr>\n",
       "  </tbody>\n",
       "</table>\n",
       "</div>"
      ],
      "text/plain": [
       "                                          review_history  \\\n",
       "12259  [I love weiners! The pastrami is pretty good t...   \n",
       "11726  [Bon restaurant grec avec un décor méditerrané...   \n",
       "2868   [OO que oui,c'est une belle boulangerie que c'...   \n",
       "8831   [Une belle surprise juste à côté de chez moi. ...   \n",
       "5823   [Bon resto indien, bon rapport qualité / prix ...   \n",
       "\n",
       "                      user_id  \\\n",
       "12259  k1FxBPNVosnWJHttRNdvPQ   \n",
       "11726  hv2FYLSr351y_XhXRXlmuQ   \n",
       "2868   9xM8upr_n9jchUDKxqSGHw   \n",
       "8831   XOgqs74hkbXT54mSp7JMRA   \n",
       "5823   La1ggB37gvq6UWpEWaMtMA   \n",
       "\n",
       "                                                  review  cluster  \n",
       "12259  I love weiners! The pastrami is pretty good to...        1  \n",
       "11726  Bon restaurant grec avec un décor méditerranée...        1  \n",
       "2868   OO que oui,c'est une belle boulangerie que c'e...        1  \n",
       "8831   Une belle surprise juste à côté de chez moi. E...        1  \n",
       "5823   Bon resto indien, bon rapport qualité / prix !...        1  "
      ]
     },
     "execution_count": 47,
     "metadata": {},
     "output_type": "execute_result"
    }
   ],
   "source": [
    "user_review['cluster'] = cluster_id\n",
    "file = user_review.sort_values(by='cluster')\n",
    "file.head()"
   ]
  },
  {
   "cell_type": "markdown",
   "metadata": {},
   "source": [
    "<a id = '3.3'></a>\n",
    "\n",
    "## 3.3 K-modes Clustering\n",
    "\n",
    "In this part of the analysis, we are focusing on the attributes of each restaruant. Yelp also collects features from restaruants like whether they offer Wi-Fi and are these place good for kids. These attributes are also factors that people want to look at when finding a suitable restaruant. Here, we will be clustering yelp users based on their favorite features. Then recommend them people to ask and restaurants to go to based on the features they like and location they are at. \n",
    "\n",
    "For each reviewer, we choose their favorite feature based on the statistic - mode. All features in the dataset is categorical. As we attempt clustering method like K-Mean and Hierarchical cluster method the process and result are not interpretable. Thus, we turned to a cluster method made just for dataset with only categorical variables - K-Mode Cluster Method. Using this method, we created 6 clusters of reviewers based on all these features. Finally, we are using the cluster as a class, combining with location of the user, to give recommendation of restaurants."
   ]
  },
  {
   "cell_type": "code",
   "execution_count": 31,
   "metadata": {},
   "outputs": [],
   "source": [
    "##b_business contains only restaurant in US\n",
    "b_business = pickle.load(open('b_businesso.pkl', 'rb'))\n",
    "##r_review 320:\n",
    "##reivews more than 3 stars\n",
    "##users more than 20 reviews\n",
    "##no text review\n",
    "r_review320 = pickle.load(open('r_review320.pkl', 'rb'))"
   ]
  },
  {
   "cell_type": "code",
   "execution_count": 32,
   "metadata": {},
   "outputs": [],
   "source": [
    "#clean up review data\n",
    "r_review320 = r_review320.drop(['cool','funny','stars','useful'],axis=1).copy()"
   ]
  },
  {
   "cell_type": "code",
   "execution_count": 33,
   "metadata": {
    "scrolled": false
   },
   "outputs": [
    {
     "data": {
      "text/html": [
       "<div>\n",
       "<style>\n",
       "    .dataframe thead tr:only-child th {\n",
       "        text-align: right;\n",
       "    }\n",
       "\n",
       "    .dataframe thead th {\n",
       "        text-align: left;\n",
       "    }\n",
       "\n",
       "    .dataframe tbody tr th {\n",
       "        vertical-align: top;\n",
       "    }\n",
       "</style>\n",
       "<table border=\"1\" class=\"dataframe\">\n",
       "  <thead>\n",
       "    <tr style=\"text-align: right;\">\n",
       "      <th></th>\n",
       "      <th>business_id</th>\n",
       "      <th>date</th>\n",
       "      <th>review_id</th>\n",
       "      <th>user_id</th>\n",
       "    </tr>\n",
       "  </thead>\n",
       "  <tbody>\n",
       "    <tr>\n",
       "      <th>7</th>\n",
       "      <td>9_CGhHMz8698M9-PkVf0CQ</td>\n",
       "      <td>2012-05-11</td>\n",
       "      <td>ymAUG8DZfQcFTBSOiaNN4w</td>\n",
       "      <td>u0LXt3Uea_GidxRW1xcsfg</td>\n",
       "    </tr>\n",
       "    <tr>\n",
       "      <th>9</th>\n",
       "      <td>5r6-G9C4YLbC7Ziz57l3rQ</td>\n",
       "      <td>2013-02-09</td>\n",
       "      <td>w41ZS9shepfO3uEyhXEWuQ</td>\n",
       "      <td>u0LXt3Uea_GidxRW1xcsfg</td>\n",
       "    </tr>\n",
       "    <tr>\n",
       "      <th>12</th>\n",
       "      <td>XWTPNfskXoUL-Lf32wSk0Q</td>\n",
       "      <td>2011-09-28</td>\n",
       "      <td>PdZ_uFjbbkjtm3SCY_KrZw</td>\n",
       "      <td>u0LXt3Uea_GidxRW1xcsfg</td>\n",
       "    </tr>\n",
       "    <tr>\n",
       "      <th>14</th>\n",
       "      <td>RtUvSWO_UZ8V3Wpj0n077w</td>\n",
       "      <td>2012-12-03</td>\n",
       "      <td>lsoSqIrrDbQvWpMvsSj2xw</td>\n",
       "      <td>u0LXt3Uea_GidxRW1xcsfg</td>\n",
       "    </tr>\n",
       "    <tr>\n",
       "      <th>15</th>\n",
       "      <td>Aov96CM4FZAXeZvKtsStdA</td>\n",
       "      <td>2010-07-16</td>\n",
       "      <td>23eqwlZzCWZkADWfd9atZw</td>\n",
       "      <td>u0LXt3Uea_GidxRW1xcsfg</td>\n",
       "    </tr>\n",
       "  </tbody>\n",
       "</table>\n",
       "</div>"
      ],
      "text/plain": [
       "               business_id        date               review_id  \\\n",
       "7   9_CGhHMz8698M9-PkVf0CQ  2012-05-11  ymAUG8DZfQcFTBSOiaNN4w   \n",
       "9   5r6-G9C4YLbC7Ziz57l3rQ  2013-02-09  w41ZS9shepfO3uEyhXEWuQ   \n",
       "12  XWTPNfskXoUL-Lf32wSk0Q  2011-09-28  PdZ_uFjbbkjtm3SCY_KrZw   \n",
       "14  RtUvSWO_UZ8V3Wpj0n077w  2012-12-03  lsoSqIrrDbQvWpMvsSj2xw   \n",
       "15  Aov96CM4FZAXeZvKtsStdA  2010-07-16  23eqwlZzCWZkADWfd9atZw   \n",
       "\n",
       "                   user_id  \n",
       "7   u0LXt3Uea_GidxRW1xcsfg  \n",
       "9   u0LXt3Uea_GidxRW1xcsfg  \n",
       "12  u0LXt3Uea_GidxRW1xcsfg  \n",
       "14  u0LXt3Uea_GidxRW1xcsfg  \n",
       "15  u0LXt3Uea_GidxRW1xcsfg  "
      ]
     },
     "execution_count": 33,
     "metadata": {},
     "output_type": "execute_result"
    }
   ],
   "source": [
    "r_review320.head()"
   ]
  },
  {
   "cell_type": "markdown",
   "metadata": {},
   "source": [
    "<a id = '3.3.1'></a>\n",
    "### 3.3.1 First Feature Selection\n",
    "\n",
    "In the original business dataset, the attribute is in a single column; Here we are expanding the attribute variable into a dataframe, resulting in the following dataset. There are tons of information in the attribute dataset. The first round of feature selection is to keep the factors that are related to a restaurant. Other unrelavant variables are removed. "
   ]
  },
  {
   "cell_type": "code",
   "execution_count": 34,
   "metadata": {},
   "outputs": [],
   "source": [
    "#filter out unneccessary info, address,latitue, longetude,name,neighborhood,postal code\n",
    "business = b_business[['business_id','state']].copy()\n",
    "\n",
    "#get attribute as an own dictionary and then to a dataframe\n",
    "attribute_o = b_business['attributes']\n",
    "attribute_pd = pd.DataFrame(attribute_o)\n",
    "\n",
    "#expand attribute to a dataframe\n",
    "#takes a bit longer to run (about 1 min)\n",
    "attribute = pd.DataFrame.from_dict({(i,j): attribute_pd[i][j] \n",
    "                           for i in attribute_pd.keys() \n",
    "                           for j in attribute_pd[i].keys()},\n",
    "                       orient='index')"
   ]
  },
  {
   "cell_type": "code",
   "execution_count": 35,
   "metadata": {},
   "outputs": [],
   "source": [
    "#Filter out useful info in attribute\n",
    "att = ['Alcohol', 'HasTV','NoiseLevel','RestaurantsAttire','BusinessAcceptsCreditCards',\n",
    " 'RestaurantsGoodForGroups','Caters','WiFi','RestaurantsReservations','BikeParking','RestaurantsTakeOut',\n",
    " 'GoodForKids', 'HappyHour','OutdoorSeating', 'RestaurantsPriceRange2','RestaurantsDelivery','Smoking','DriveThru',\n",
    " 'WheelchairAccessible', 'DogsAllowed', 'Open24Hours', 'ByAppointmentOnly',\n",
    " 'RestaurantsCounterService', 'AgesAllowed']\n",
    "attribute = attribute[att]\n",
    "#attribute.head()\n",
    "\n",
    "#solve multi index problem\n",
    "attribute = pd.DataFrame(attribute.to_records())\n",
    "#attribute.head()\n",
    "\n",
    "attribute = attribute.set_index('level_1')\n",
    "#attribute.head()\n",
    "#attin = attribute.index.tolist()"
   ]
  },
  {
   "cell_type": "code",
   "execution_count": 36,
   "metadata": {},
   "outputs": [
    {
     "data": {
      "text/html": [
       "<div>\n",
       "<style>\n",
       "    .dataframe thead tr:only-child th {\n",
       "        text-align: right;\n",
       "    }\n",
       "\n",
       "    .dataframe thead th {\n",
       "        text-align: left;\n",
       "    }\n",
       "\n",
       "    .dataframe tbody tr th {\n",
       "        vertical-align: top;\n",
       "    }\n",
       "</style>\n",
       "<table border=\"1\" class=\"dataframe\">\n",
       "  <thead>\n",
       "    <tr style=\"text-align: right;\">\n",
       "      <th></th>\n",
       "      <th>business_id</th>\n",
       "      <th>state</th>\n",
       "      <th>Alcohol</th>\n",
       "      <th>HasTV</th>\n",
       "      <th>NoiseLevel</th>\n",
       "      <th>RestaurantsAttire</th>\n",
       "      <th>BusinessAcceptsCreditCards</th>\n",
       "      <th>RestaurantsGoodForGroups</th>\n",
       "      <th>Caters</th>\n",
       "      <th>WiFi</th>\n",
       "      <th>...</th>\n",
       "      <th>RestaurantsPriceRange2</th>\n",
       "      <th>RestaurantsDelivery</th>\n",
       "      <th>Smoking</th>\n",
       "      <th>DriveThru</th>\n",
       "      <th>WheelchairAccessible</th>\n",
       "      <th>DogsAllowed</th>\n",
       "      <th>Open24Hours</th>\n",
       "      <th>ByAppointmentOnly</th>\n",
       "      <th>RestaurantsCounterService</th>\n",
       "      <th>AgesAllowed</th>\n",
       "    </tr>\n",
       "  </thead>\n",
       "  <tbody>\n",
       "    <tr>\n",
       "      <th>4</th>\n",
       "      <td>PfOCPjBrlQAnz__NXj9h_w</td>\n",
       "      <td>OH</td>\n",
       "      <td>full_bar</td>\n",
       "      <td>True</td>\n",
       "      <td>average</td>\n",
       "      <td>casual</td>\n",
       "      <td>True</td>\n",
       "      <td>True</td>\n",
       "      <td>False</td>\n",
       "      <td>free</td>\n",
       "      <td>...</td>\n",
       "      <td>2.0</td>\n",
       "      <td>False</td>\n",
       "      <td>outdoor</td>\n",
       "      <td>False</td>\n",
       "      <td>NaN</td>\n",
       "      <td>NaN</td>\n",
       "      <td>NaN</td>\n",
       "      <td>NaN</td>\n",
       "      <td>NaN</td>\n",
       "      <td>NaN</td>\n",
       "    </tr>\n",
       "    <tr>\n",
       "      <th>14</th>\n",
       "      <td>fNMVV_ZX7CJSDWQGdOM8Nw</td>\n",
       "      <td>NC</td>\n",
       "      <td>NaN</td>\n",
       "      <td>False</td>\n",
       "      <td>NaN</td>\n",
       "      <td>casual</td>\n",
       "      <td>True</td>\n",
       "      <td>True</td>\n",
       "      <td>NaN</td>\n",
       "      <td>free</td>\n",
       "      <td>...</td>\n",
       "      <td>1.0</td>\n",
       "      <td>False</td>\n",
       "      <td>NaN</td>\n",
       "      <td>NaN</td>\n",
       "      <td>NaN</td>\n",
       "      <td>NaN</td>\n",
       "      <td>NaN</td>\n",
       "      <td>NaN</td>\n",
       "      <td>NaN</td>\n",
       "      <td>NaN</td>\n",
       "    </tr>\n",
       "    <tr>\n",
       "      <th>19</th>\n",
       "      <td>Gu-xs3NIQTj3Mj2xYoN2aw</td>\n",
       "      <td>ON</td>\n",
       "      <td>full_bar</td>\n",
       "      <td>False</td>\n",
       "      <td>average</td>\n",
       "      <td>casual</td>\n",
       "      <td>True</td>\n",
       "      <td>True</td>\n",
       "      <td>True</td>\n",
       "      <td>no</td>\n",
       "      <td>...</td>\n",
       "      <td>2.0</td>\n",
       "      <td>False</td>\n",
       "      <td>NaN</td>\n",
       "      <td>NaN</td>\n",
       "      <td>True</td>\n",
       "      <td>NaN</td>\n",
       "      <td>NaN</td>\n",
       "      <td>NaN</td>\n",
       "      <td>NaN</td>\n",
       "      <td>NaN</td>\n",
       "    </tr>\n",
       "    <tr>\n",
       "      <th>25</th>\n",
       "      <td>1K4qrnfyzKzGgJPBEcJaNQ</td>\n",
       "      <td>ON</td>\n",
       "      <td>full_bar</td>\n",
       "      <td>True</td>\n",
       "      <td>loud</td>\n",
       "      <td>casual</td>\n",
       "      <td>NaN</td>\n",
       "      <td>True</td>\n",
       "      <td>NaN</td>\n",
       "      <td>free</td>\n",
       "      <td>...</td>\n",
       "      <td>2.0</td>\n",
       "      <td>False</td>\n",
       "      <td>no</td>\n",
       "      <td>NaN</td>\n",
       "      <td>NaN</td>\n",
       "      <td>NaN</td>\n",
       "      <td>NaN</td>\n",
       "      <td>NaN</td>\n",
       "      <td>NaN</td>\n",
       "      <td>NaN</td>\n",
       "    </tr>\n",
       "    <tr>\n",
       "      <th>28</th>\n",
       "      <td>Dj0S-Oe4ytRJzMGUPgYUkw</td>\n",
       "      <td>OH</td>\n",
       "      <td>NaN</td>\n",
       "      <td>NaN</td>\n",
       "      <td>NaN</td>\n",
       "      <td>NaN</td>\n",
       "      <td>True</td>\n",
       "      <td>NaN</td>\n",
       "      <td>NaN</td>\n",
       "      <td>NaN</td>\n",
       "      <td>...</td>\n",
       "      <td>NaN</td>\n",
       "      <td>False</td>\n",
       "      <td>NaN</td>\n",
       "      <td>NaN</td>\n",
       "      <td>NaN</td>\n",
       "      <td>NaN</td>\n",
       "      <td>NaN</td>\n",
       "      <td>NaN</td>\n",
       "      <td>NaN</td>\n",
       "      <td>NaN</td>\n",
       "    </tr>\n",
       "  </tbody>\n",
       "</table>\n",
       "<p>5 rows × 26 columns</p>\n",
       "</div>"
      ],
      "text/plain": [
       "               business_id state   Alcohol  HasTV NoiseLevel  \\\n",
       "4   PfOCPjBrlQAnz__NXj9h_w    OH  full_bar   True    average   \n",
       "14  fNMVV_ZX7CJSDWQGdOM8Nw    NC       NaN  False        NaN   \n",
       "19  Gu-xs3NIQTj3Mj2xYoN2aw    ON  full_bar  False    average   \n",
       "25  1K4qrnfyzKzGgJPBEcJaNQ    ON  full_bar   True       loud   \n",
       "28  Dj0S-Oe4ytRJzMGUPgYUkw    OH       NaN    NaN        NaN   \n",
       "\n",
       "   RestaurantsAttire BusinessAcceptsCreditCards RestaurantsGoodForGroups  \\\n",
       "4             casual                       True                     True   \n",
       "14            casual                       True                     True   \n",
       "19            casual                       True                     True   \n",
       "25            casual                        NaN                     True   \n",
       "28               NaN                       True                      NaN   \n",
       "\n",
       "   Caters  WiFi     ...     RestaurantsPriceRange2 RestaurantsDelivery  \\\n",
       "4   False  free     ...                        2.0               False   \n",
       "14    NaN  free     ...                        1.0               False   \n",
       "19   True    no     ...                        2.0               False   \n",
       "25    NaN  free     ...                        2.0               False   \n",
       "28    NaN   NaN     ...                        NaN               False   \n",
       "\n",
       "    Smoking DriveThru WheelchairAccessible DogsAllowed  Open24Hours  \\\n",
       "4   outdoor     False                  NaN         NaN          NaN   \n",
       "14      NaN       NaN                  NaN         NaN          NaN   \n",
       "19      NaN       NaN                 True         NaN          NaN   \n",
       "25       no       NaN                  NaN         NaN          NaN   \n",
       "28      NaN       NaN                  NaN         NaN          NaN   \n",
       "\n",
       "   ByAppointmentOnly RestaurantsCounterService AgesAllowed  \n",
       "4                NaN                       NaN         NaN  \n",
       "14               NaN                       NaN         NaN  \n",
       "19               NaN                       NaN         NaN  \n",
       "25               NaN                       NaN         NaN  \n",
       "28               NaN                       NaN         NaN  \n",
       "\n",
       "[5 rows x 26 columns]"
      ]
     },
     "execution_count": 36,
     "metadata": {},
     "output_type": "execute_result"
    }
   ],
   "source": [
    "#merge two dataset\n",
    "df = pd.concat([business, attribute], axis=1)\n",
    "df = df.drop(['level_0'],axis=1)\n",
    "df.head()"
   ]
  },
  {
   "cell_type": "markdown",
   "metadata": {},
   "source": [
    "<a id = '3.3.2'></a>\n",
    "### 3.3.2 Missing Values and  Second Round of Variables Selection\n",
    "\n",
    "The next goal is to combine the review data and attribute data using the Business ID. First we want to solve some missing value problems. The attributes are not mandatory feature for a business or customer to enter on Yelp. Therefore, missing value definately exist. The missingness of the variables ranges from 0.52% missing to 80% missing. Our solutions for variables with different percentage missing are as follow:\n",
    "1. Variables that have more than 40% missing are removed beacause there are too much uncertainty. \n",
    "2. One interesting finding is that for some variables like WiFi and Alcohol,even though more than 20% are missing, the missing values seem to be missing for a reason. Therefore, these varibles are not removed and NA's are made into its own category. \n",
    "4. For other variables with only small percentage missing, we are filling in with mode. Filling them with mode won't affect too much on distribution of the variable since they only have a small portion missing.\n",
    "\n",
    "Finally, for clustering purpose, we are condensing the data from multiple observarion per user to one observation per user. Since all the attributes are categorical, our method to condense the data to one line per user is group by users and find the mode in each variable. For example One user has input as the table shown. \n",
    "\n",
    "User ID       | WiFi\n",
    "------------- | -------------\n",
    "23            | Free\n",
    "23            | Free\n",
    "23            | Unknwon\n",
    "23            | none\n",
    "23            | Free\n",
    "\n",
    "We ar condensing the observation for this user to:\n",
    "\n",
    "User ID       | WiFi\n",
    "------------- | -------------\n",
    "23            | Free\n",
    "\n",
    "Same for other features and users.\n"
   ]
  },
  {
   "cell_type": "code",
   "execution_count": 37,
   "metadata": {
    "scrolled": true
   },
   "outputs": [],
   "source": [
    "##replace missing value with mode\n",
    "#df = df.apply(lambda x:x.fillna(x.value_counts().index[0]))\n",
    "##replace missing value with UNKNOWN, seems more interesting for given stats\n",
    "##from the statistics of each variable, it seems like NA is there for a reason\n",
    "df.WiFi = df.WiFi.astype(object).fillna(\"UNKNOWN\")\n",
    "df[\"Alcohol\"] = df[\"Alcohol\"].astype(object).fillna(\"UNKNOWN\")\n",
    "df[\"NoiseLevel\"] = df[\"NoiseLevel\"].astype(object).fillna(\"UNKNOWN\")\n",
    "df[\"RestaurantsPriceRange2\"] = df[\"RestaurantsPriceRange2\"].fillna((df['RestaurantsPriceRange2'].median()))\n",
    "\n",
    "##replace missing value with mode\n",
    "df = df.apply(lambda x:x.fillna(x.value_counts().index[0]))\n"
   ]
  },
  {
   "cell_type": "code",
   "execution_count": 38,
   "metadata": {},
   "outputs": [],
   "source": [
    "# Merge two files\n",
    "userdf = r_review320.merge(df, left_on='business_id', right_on='business_id', how='outer')"
   ]
  },
  {
   "cell_type": "code",
   "execution_count": 39,
   "metadata": {},
   "outputs": [],
   "source": [
    "## Remove restaruant that does not have a review in this set \n",
    "## total of 3885 restaruants\n",
    "userdf = userdf[pd.notnull(userdf['user_id'])]\n",
    "\n",
    "#drop the columns with too much missing values\n",
    "userdf2 = userdf.drop(['business_id','date', 'review_id', 'AgesAllowed',\n",
    "                               'RestaurantsCounterService','ByAppointmentOnly','HappyHour','Smoking','DriveThru','WheelchairAccessible',\n",
    "                               'DogsAllowed','Open24Hours','Caters'],axis=1).copy()"
   ]
  },
  {
   "cell_type": "code",
   "execution_count": 58,
   "metadata": {},
   "outputs": [],
   "source": [
    "####################################\n",
    "# Way to much time                 #\n",
    "# Saved into a pickle file         #\n",
    "####################################\n",
    "\n",
    "#userdfname = userdf2.groupby(['user_id']).agg(lambda x:x.value_counts().index[0])\n",
    "#pickle.dump(userdfname, open('userdfname.pkl', 'wb'))"
   ]
  },
  {
   "cell_type": "markdown",
   "metadata": {},
   "source": [
    "- The final data"
   ]
  },
  {
   "cell_type": "code",
   "execution_count": 40,
   "metadata": {
    "scrolled": false
   },
   "outputs": [
    {
     "data": {
      "text/html": [
       "<div>\n",
       "<style>\n",
       "    .dataframe thead tr:only-child th {\n",
       "        text-align: right;\n",
       "    }\n",
       "\n",
       "    .dataframe thead th {\n",
       "        text-align: left;\n",
       "    }\n",
       "\n",
       "    .dataframe tbody tr th {\n",
       "        vertical-align: top;\n",
       "    }\n",
       "</style>\n",
       "<table border=\"1\" class=\"dataframe\">\n",
       "  <thead>\n",
       "    <tr style=\"text-align: right;\">\n",
       "      <th></th>\n",
       "      <th>state</th>\n",
       "      <th>Alcohol</th>\n",
       "      <th>HasTV</th>\n",
       "      <th>NoiseLevel</th>\n",
       "      <th>RestaurantsAttire</th>\n",
       "      <th>BusinessAcceptsCreditCards</th>\n",
       "      <th>RestaurantsGoodForGroups</th>\n",
       "      <th>WiFi</th>\n",
       "      <th>RestaurantsReservations</th>\n",
       "      <th>BikeParking</th>\n",
       "      <th>...</th>\n",
       "      <th>AcceptCreditCardn</th>\n",
       "      <th>GoodForGroupsn</th>\n",
       "      <th>WiFin</th>\n",
       "      <th>Reservationn</th>\n",
       "      <th>BikeParkingn</th>\n",
       "      <th>TakeOutn</th>\n",
       "      <th>GoodForKidsn</th>\n",
       "      <th>Outdoorn</th>\n",
       "      <th>Deliveryn</th>\n",
       "      <th>ID</th>\n",
       "    </tr>\n",
       "    <tr>\n",
       "      <th>user_id</th>\n",
       "      <th></th>\n",
       "      <th></th>\n",
       "      <th></th>\n",
       "      <th></th>\n",
       "      <th></th>\n",
       "      <th></th>\n",
       "      <th></th>\n",
       "      <th></th>\n",
       "      <th></th>\n",
       "      <th></th>\n",
       "      <th></th>\n",
       "      <th></th>\n",
       "      <th></th>\n",
       "      <th></th>\n",
       "      <th></th>\n",
       "      <th></th>\n",
       "      <th></th>\n",
       "      <th></th>\n",
       "      <th></th>\n",
       "      <th></th>\n",
       "      <th></th>\n",
       "    </tr>\n",
       "  </thead>\n",
       "  <tbody>\n",
       "    <tr>\n",
       "      <th>---1lKK3aKOuomHnwAkAow</th>\n",
       "      <td>NV</td>\n",
       "      <td>full_bar</td>\n",
       "      <td>True</td>\n",
       "      <td>average</td>\n",
       "      <td>casual</td>\n",
       "      <td>True</td>\n",
       "      <td>True</td>\n",
       "      <td>no</td>\n",
       "      <td>True</td>\n",
       "      <td>True</td>\n",
       "      <td>...</td>\n",
       "      <td>1</td>\n",
       "      <td>1</td>\n",
       "      <td>2</td>\n",
       "      <td>1</td>\n",
       "      <td>1</td>\n",
       "      <td>1</td>\n",
       "      <td>1</td>\n",
       "      <td>1</td>\n",
       "      <td>0</td>\n",
       "      <td>0</td>\n",
       "    </tr>\n",
       "    <tr>\n",
       "      <th>--2HUmLkcNHZp0xw6AMBPg</th>\n",
       "      <td>AZ</td>\n",
       "      <td>none</td>\n",
       "      <td>False</td>\n",
       "      <td>average</td>\n",
       "      <td>casual</td>\n",
       "      <td>True</td>\n",
       "      <td>True</td>\n",
       "      <td>free</td>\n",
       "      <td>False</td>\n",
       "      <td>True</td>\n",
       "      <td>...</td>\n",
       "      <td>1</td>\n",
       "      <td>1</td>\n",
       "      <td>1</td>\n",
       "      <td>0</td>\n",
       "      <td>1</td>\n",
       "      <td>1</td>\n",
       "      <td>1</td>\n",
       "      <td>1</td>\n",
       "      <td>0</td>\n",
       "      <td>1</td>\n",
       "    </tr>\n",
       "    <tr>\n",
       "      <th>--BumyUHiO_7YsHurb9Hkw</th>\n",
       "      <td>ON</td>\n",
       "      <td>none</td>\n",
       "      <td>False</td>\n",
       "      <td>average</td>\n",
       "      <td>casual</td>\n",
       "      <td>True</td>\n",
       "      <td>True</td>\n",
       "      <td>free</td>\n",
       "      <td>False</td>\n",
       "      <td>True</td>\n",
       "      <td>...</td>\n",
       "      <td>1</td>\n",
       "      <td>1</td>\n",
       "      <td>1</td>\n",
       "      <td>0</td>\n",
       "      <td>1</td>\n",
       "      <td>1</td>\n",
       "      <td>1</td>\n",
       "      <td>1</td>\n",
       "      <td>0</td>\n",
       "      <td>2</td>\n",
       "    </tr>\n",
       "    <tr>\n",
       "      <th>--Qh8yKWAvIP4V4K8ZPfHA</th>\n",
       "      <td>ON</td>\n",
       "      <td>full_bar</td>\n",
       "      <td>False</td>\n",
       "      <td>average</td>\n",
       "      <td>casual</td>\n",
       "      <td>True</td>\n",
       "      <td>True</td>\n",
       "      <td>no</td>\n",
       "      <td>True</td>\n",
       "      <td>True</td>\n",
       "      <td>...</td>\n",
       "      <td>1</td>\n",
       "      <td>1</td>\n",
       "      <td>2</td>\n",
       "      <td>1</td>\n",
       "      <td>1</td>\n",
       "      <td>1</td>\n",
       "      <td>1</td>\n",
       "      <td>0</td>\n",
       "      <td>0</td>\n",
       "      <td>3</td>\n",
       "    </tr>\n",
       "    <tr>\n",
       "      <th>--RlSfc-QmcHFGHyX6aVjA</th>\n",
       "      <td>NV</td>\n",
       "      <td>none</td>\n",
       "      <td>True</td>\n",
       "      <td>average</td>\n",
       "      <td>casual</td>\n",
       "      <td>True</td>\n",
       "      <td>True</td>\n",
       "      <td>free</td>\n",
       "      <td>False</td>\n",
       "      <td>True</td>\n",
       "      <td>...</td>\n",
       "      <td>1</td>\n",
       "      <td>1</td>\n",
       "      <td>1</td>\n",
       "      <td>0</td>\n",
       "      <td>1</td>\n",
       "      <td>1</td>\n",
       "      <td>1</td>\n",
       "      <td>0</td>\n",
       "      <td>0</td>\n",
       "      <td>4</td>\n",
       "    </tr>\n",
       "  </tbody>\n",
       "</table>\n",
       "<p>5 rows × 30 columns</p>\n",
       "</div>"
      ],
      "text/plain": [
       "                       state   Alcohol  HasTV NoiseLevel RestaurantsAttire  \\\n",
       "user_id                                                                      \n",
       "---1lKK3aKOuomHnwAkAow    NV  full_bar   True    average            casual   \n",
       "--2HUmLkcNHZp0xw6AMBPg    AZ      none  False    average            casual   \n",
       "--BumyUHiO_7YsHurb9Hkw    ON      none  False    average            casual   \n",
       "--Qh8yKWAvIP4V4K8ZPfHA    ON  full_bar  False    average            casual   \n",
       "--RlSfc-QmcHFGHyX6aVjA    NV      none   True    average            casual   \n",
       "\n",
       "                        BusinessAcceptsCreditCards  RestaurantsGoodForGroups  \\\n",
       "user_id                                                                        \n",
       "---1lKK3aKOuomHnwAkAow                        True                      True   \n",
       "--2HUmLkcNHZp0xw6AMBPg                        True                      True   \n",
       "--BumyUHiO_7YsHurb9Hkw                        True                      True   \n",
       "--Qh8yKWAvIP4V4K8ZPfHA                        True                      True   \n",
       "--RlSfc-QmcHFGHyX6aVjA                        True                      True   \n",
       "\n",
       "                        WiFi  RestaurantsReservations  BikeParking ...  \\\n",
       "user_id                                                            ...   \n",
       "---1lKK3aKOuomHnwAkAow    no                     True         True ...   \n",
       "--2HUmLkcNHZp0xw6AMBPg  free                    False         True ...   \n",
       "--BumyUHiO_7YsHurb9Hkw  free                    False         True ...   \n",
       "--Qh8yKWAvIP4V4K8ZPfHA    no                     True         True ...   \n",
       "--RlSfc-QmcHFGHyX6aVjA  free                    False         True ...   \n",
       "\n",
       "                        AcceptCreditCardn  GoodForGroupsn  WiFin  \\\n",
       "user_id                                                            \n",
       "---1lKK3aKOuomHnwAkAow                  1               1      2   \n",
       "--2HUmLkcNHZp0xw6AMBPg                  1               1      1   \n",
       "--BumyUHiO_7YsHurb9Hkw                  1               1      1   \n",
       "--Qh8yKWAvIP4V4K8ZPfHA                  1               1      2   \n",
       "--RlSfc-QmcHFGHyX6aVjA                  1               1      1   \n",
       "\n",
       "                        Reservationn  BikeParkingn  TakeOutn  GoodForKidsn  \\\n",
       "user_id                                                                      \n",
       "---1lKK3aKOuomHnwAkAow             1             1         1             1   \n",
       "--2HUmLkcNHZp0xw6AMBPg             0             1         1             1   \n",
       "--BumyUHiO_7YsHurb9Hkw             0             1         1             1   \n",
       "--Qh8yKWAvIP4V4K8ZPfHA             1             1         1             1   \n",
       "--RlSfc-QmcHFGHyX6aVjA             0             1         1             1   \n",
       "\n",
       "                        Outdoorn  Deliveryn  ID  \n",
       "user_id                                          \n",
       "---1lKK3aKOuomHnwAkAow         1          0   0  \n",
       "--2HUmLkcNHZp0xw6AMBPg         1          0   1  \n",
       "--BumyUHiO_7YsHurb9Hkw         1          0   2  \n",
       "--Qh8yKWAvIP4V4K8ZPfHA         0          0   3  \n",
       "--RlSfc-QmcHFGHyX6aVjA         0          0   4  \n",
       "\n",
       "[5 rows x 30 columns]"
      ]
     },
     "execution_count": 40,
     "metadata": {},
     "output_type": "execute_result"
    }
   ],
   "source": [
    "#Load in the extracted data\n",
    "userdfname = pickle.load(open('userdfname.pkl', 'rb'))\n",
    "userdfname.head()"
   ]
  },
  {
   "cell_type": "markdown",
   "metadata": {},
   "source": [
    "[Return to the Top](#intro)   |   [Return to Section Top](#3.3)"
   ]
  },
  {
   "cell_type": "markdown",
   "metadata": {},
   "source": [
    "<a id = '3.3.3'></a>\n",
    "### 3.3.3 Clustering Method: K-modes Cluster"
   ]
  },
  {
   "cell_type": "markdown",
   "metadata": {},
   "source": [
    "Another way to select feature we want to use for a k-mode cluster is to look at the centroid after clustering.\n",
    "The centroid will look like the table below.\n",
    "\n",
    "So it would be easy to indentify which variable we don't need. For instance, The variable HasTV is the always True in all of the cluster (no matter how many clusters we decide); it won't make a difference.\n",
    "\n",
    "After testing out different numbers of clustering, we removed the following variables because they always obtain the same value in the cluster centroids. \n",
    "\n",
    "- HasTV\n",
    "- BusinessAcceptsCreditCards\n",
    "- BikeParking\n",
    "- NoiseLevel\n",
    "- Restaurant Attire\n",
    "\n",
    "The mean reason for the same value problem is that the variables below are very imbalanced. For example, The 70% of the variable NoiseLevel is _average_. At the end, there are still two variables that results in same value in th cluster centroids. However, these variables tend to switch around based on the number of clusters. For example, the variable RestaurantGoodForGroup does not have changes in value in centroid for 6 clusters, but it does have change in value for 7 clusters. So are the other variables. Therefore, these variables are kept in the final clustering."
   ]
  },
  {
   "cell_type": "code",
   "execution_count": 41,
   "metadata": {},
   "outputs": [
    {
     "data": {
      "text/html": [
       "<div>\n",
       "<style>\n",
       "    .dataframe thead tr:only-child th {\n",
       "        text-align: right;\n",
       "    }\n",
       "\n",
       "    .dataframe thead th {\n",
       "        text-align: left;\n",
       "    }\n",
       "\n",
       "    .dataframe tbody tr th {\n",
       "        vertical-align: top;\n",
       "    }\n",
       "</style>\n",
       "<table border=\"1\" class=\"dataframe\">\n",
       "  <thead>\n",
       "    <tr style=\"text-align: right;\">\n",
       "      <th></th>\n",
       "      <th>state</th>\n",
       "      <th>Alcohol</th>\n",
       "      <th>HasTV</th>\n",
       "      <th>NoiseLevel</th>\n",
       "      <th>RestaurantsAttire</th>\n",
       "      <th>BusinessAcceptsCreditCards</th>\n",
       "      <th>RestaurantsGoodForGroups</th>\n",
       "      <th>WiFi</th>\n",
       "      <th>RestaurantsReservations</th>\n",
       "      <th>BikeParking</th>\n",
       "      <th>...</th>\n",
       "      <th>AcceptCreditCardn</th>\n",
       "      <th>GoodForGroupsn</th>\n",
       "      <th>WiFin</th>\n",
       "      <th>Reservationn</th>\n",
       "      <th>BikeParkingn</th>\n",
       "      <th>TakeOutn</th>\n",
       "      <th>GoodForKidsn</th>\n",
       "      <th>Outdoorn</th>\n",
       "      <th>Deliveryn</th>\n",
       "      <th>ID</th>\n",
       "    </tr>\n",
       "    <tr>\n",
       "      <th>user_id</th>\n",
       "      <th></th>\n",
       "      <th></th>\n",
       "      <th></th>\n",
       "      <th></th>\n",
       "      <th></th>\n",
       "      <th></th>\n",
       "      <th></th>\n",
       "      <th></th>\n",
       "      <th></th>\n",
       "      <th></th>\n",
       "      <th></th>\n",
       "      <th></th>\n",
       "      <th></th>\n",
       "      <th></th>\n",
       "      <th></th>\n",
       "      <th></th>\n",
       "      <th></th>\n",
       "      <th></th>\n",
       "      <th></th>\n",
       "      <th></th>\n",
       "      <th></th>\n",
       "    </tr>\n",
       "  </thead>\n",
       "  <tbody>\n",
       "    <tr>\n",
       "      <th>---1lKK3aKOuomHnwAkAow</th>\n",
       "      <td>NV</td>\n",
       "      <td>full_bar</td>\n",
       "      <td>True</td>\n",
       "      <td>average</td>\n",
       "      <td>casual</td>\n",
       "      <td>True</td>\n",
       "      <td>True</td>\n",
       "      <td>no</td>\n",
       "      <td>True</td>\n",
       "      <td>True</td>\n",
       "      <td>...</td>\n",
       "      <td>1</td>\n",
       "      <td>1</td>\n",
       "      <td>2</td>\n",
       "      <td>1</td>\n",
       "      <td>1</td>\n",
       "      <td>1</td>\n",
       "      <td>1</td>\n",
       "      <td>1</td>\n",
       "      <td>0</td>\n",
       "      <td>0</td>\n",
       "    </tr>\n",
       "    <tr>\n",
       "      <th>--2HUmLkcNHZp0xw6AMBPg</th>\n",
       "      <td>AZ</td>\n",
       "      <td>none</td>\n",
       "      <td>False</td>\n",
       "      <td>average</td>\n",
       "      <td>casual</td>\n",
       "      <td>True</td>\n",
       "      <td>True</td>\n",
       "      <td>free</td>\n",
       "      <td>False</td>\n",
       "      <td>True</td>\n",
       "      <td>...</td>\n",
       "      <td>1</td>\n",
       "      <td>1</td>\n",
       "      <td>1</td>\n",
       "      <td>0</td>\n",
       "      <td>1</td>\n",
       "      <td>1</td>\n",
       "      <td>1</td>\n",
       "      <td>1</td>\n",
       "      <td>0</td>\n",
       "      <td>1</td>\n",
       "    </tr>\n",
       "    <tr>\n",
       "      <th>--BumyUHiO_7YsHurb9Hkw</th>\n",
       "      <td>ON</td>\n",
       "      <td>none</td>\n",
       "      <td>False</td>\n",
       "      <td>average</td>\n",
       "      <td>casual</td>\n",
       "      <td>True</td>\n",
       "      <td>True</td>\n",
       "      <td>free</td>\n",
       "      <td>False</td>\n",
       "      <td>True</td>\n",
       "      <td>...</td>\n",
       "      <td>1</td>\n",
       "      <td>1</td>\n",
       "      <td>1</td>\n",
       "      <td>0</td>\n",
       "      <td>1</td>\n",
       "      <td>1</td>\n",
       "      <td>1</td>\n",
       "      <td>1</td>\n",
       "      <td>0</td>\n",
       "      <td>2</td>\n",
       "    </tr>\n",
       "    <tr>\n",
       "      <th>--Qh8yKWAvIP4V4K8ZPfHA</th>\n",
       "      <td>ON</td>\n",
       "      <td>full_bar</td>\n",
       "      <td>False</td>\n",
       "      <td>average</td>\n",
       "      <td>casual</td>\n",
       "      <td>True</td>\n",
       "      <td>True</td>\n",
       "      <td>no</td>\n",
       "      <td>True</td>\n",
       "      <td>True</td>\n",
       "      <td>...</td>\n",
       "      <td>1</td>\n",
       "      <td>1</td>\n",
       "      <td>2</td>\n",
       "      <td>1</td>\n",
       "      <td>1</td>\n",
       "      <td>1</td>\n",
       "      <td>1</td>\n",
       "      <td>0</td>\n",
       "      <td>0</td>\n",
       "      <td>3</td>\n",
       "    </tr>\n",
       "    <tr>\n",
       "      <th>--RlSfc-QmcHFGHyX6aVjA</th>\n",
       "      <td>NV</td>\n",
       "      <td>none</td>\n",
       "      <td>True</td>\n",
       "      <td>average</td>\n",
       "      <td>casual</td>\n",
       "      <td>True</td>\n",
       "      <td>True</td>\n",
       "      <td>free</td>\n",
       "      <td>False</td>\n",
       "      <td>True</td>\n",
       "      <td>...</td>\n",
       "      <td>1</td>\n",
       "      <td>1</td>\n",
       "      <td>1</td>\n",
       "      <td>0</td>\n",
       "      <td>1</td>\n",
       "      <td>1</td>\n",
       "      <td>1</td>\n",
       "      <td>0</td>\n",
       "      <td>0</td>\n",
       "      <td>4</td>\n",
       "    </tr>\n",
       "  </tbody>\n",
       "</table>\n",
       "<p>5 rows × 30 columns</p>\n",
       "</div>"
      ],
      "text/plain": [
       "                       state   Alcohol  HasTV NoiseLevel RestaurantsAttire  \\\n",
       "user_id                                                                      \n",
       "---1lKK3aKOuomHnwAkAow    NV  full_bar   True    average            casual   \n",
       "--2HUmLkcNHZp0xw6AMBPg    AZ      none  False    average            casual   \n",
       "--BumyUHiO_7YsHurb9Hkw    ON      none  False    average            casual   \n",
       "--Qh8yKWAvIP4V4K8ZPfHA    ON  full_bar  False    average            casual   \n",
       "--RlSfc-QmcHFGHyX6aVjA    NV      none   True    average            casual   \n",
       "\n",
       "                        BusinessAcceptsCreditCards  RestaurantsGoodForGroups  \\\n",
       "user_id                                                                        \n",
       "---1lKK3aKOuomHnwAkAow                        True                      True   \n",
       "--2HUmLkcNHZp0xw6AMBPg                        True                      True   \n",
       "--BumyUHiO_7YsHurb9Hkw                        True                      True   \n",
       "--Qh8yKWAvIP4V4K8ZPfHA                        True                      True   \n",
       "--RlSfc-QmcHFGHyX6aVjA                        True                      True   \n",
       "\n",
       "                        WiFi  RestaurantsReservations  BikeParking ...  \\\n",
       "user_id                                                            ...   \n",
       "---1lKK3aKOuomHnwAkAow    no                     True         True ...   \n",
       "--2HUmLkcNHZp0xw6AMBPg  free                    False         True ...   \n",
       "--BumyUHiO_7YsHurb9Hkw  free                    False         True ...   \n",
       "--Qh8yKWAvIP4V4K8ZPfHA    no                     True         True ...   \n",
       "--RlSfc-QmcHFGHyX6aVjA  free                    False         True ...   \n",
       "\n",
       "                        AcceptCreditCardn  GoodForGroupsn  WiFin  \\\n",
       "user_id                                                            \n",
       "---1lKK3aKOuomHnwAkAow                  1               1      2   \n",
       "--2HUmLkcNHZp0xw6AMBPg                  1               1      1   \n",
       "--BumyUHiO_7YsHurb9Hkw                  1               1      1   \n",
       "--Qh8yKWAvIP4V4K8ZPfHA                  1               1      2   \n",
       "--RlSfc-QmcHFGHyX6aVjA                  1               1      1   \n",
       "\n",
       "                        Reservationn  BikeParkingn  TakeOutn  GoodForKidsn  \\\n",
       "user_id                                                                      \n",
       "---1lKK3aKOuomHnwAkAow             1             1         1             1   \n",
       "--2HUmLkcNHZp0xw6AMBPg             0             1         1             1   \n",
       "--BumyUHiO_7YsHurb9Hkw             0             1         1             1   \n",
       "--Qh8yKWAvIP4V4K8ZPfHA             1             1         1             1   \n",
       "--RlSfc-QmcHFGHyX6aVjA             0             1         1             1   \n",
       "\n",
       "                        Outdoorn  Deliveryn  ID  \n",
       "user_id                                          \n",
       "---1lKK3aKOuomHnwAkAow         1          0   0  \n",
       "--2HUmLkcNHZp0xw6AMBPg         1          0   1  \n",
       "--BumyUHiO_7YsHurb9Hkw         1          0   2  \n",
       "--Qh8yKWAvIP4V4K8ZPfHA         0          0   3  \n",
       "--RlSfc-QmcHFGHyX6aVjA         0          0   4  \n",
       "\n",
       "[5 rows x 30 columns]"
      ]
     },
     "execution_count": 41,
     "metadata": {},
     "output_type": "execute_result"
    }
   ],
   "source": [
    "userdfname.head()"
   ]
  },
  {
   "cell_type": "code",
   "execution_count": 42,
   "metadata": {},
   "outputs": [],
   "source": [
    "obj3 = ['RestaurantsPriceRange2','Staten','alcoholn', 'NoiseLeveln', 'HasTVn', 'Attiren', 'AcceptCreditCardn', \n",
    "        'GoodForGroupsn', 'WiFin', 'Reservationn', 'BikeParkingn', 'TakeOutn', 'GoodForKidsn', 'Outdoorn', 'Deliveryn', 'ID']\n",
    "\n",
    "#drop columns\n",
    "userdf_km = userdfname.drop(obj3,axis=1).copy()\n",
    "userdf_km = userdf_km.drop(['state','HasTV','BusinessAcceptsCreditCards','BikeParking','NoiseLevel','RestaurantsAttire'],axis=1)\n",
    "#,'BikeParking','RestaurantsDelivery'"
   ]
  },
  {
   "cell_type": "markdown",
   "metadata": {},
   "source": [
    "** Method Algorithm **\n",
    "\n",
    "The mean idea behind K-Mode Cluster is similar to that of K-mean. It uses modes instead of means to form clusters of categorical data.Let’s dive into the steps of the algorithm. Furthermore, the k-modes approach modifies the standard k-means process for clustering categorical data by replacing the Euclidean distance function with the simple matching dissimilarity measure, using modes to represent cluster centers and updating modes with the most frequent categorical values in each of iterations of the clustering process. \n",
    "\n",
    "The steps for clustering the data into K cluster is as follow:\n",
    "\n",
    "1. Randomly select K as the initial cluster centers (modes). In our case, we test out different numbers of K.\n",
    "2. Calculate the distances between each object and the cluster mode; assign the object to the cluster whose center has the shortest distance to the object; repeat this step until all objects are assigned to clusters.\n",
    "3. Select a new mode for each cluster and compare it with the previous mode. If different, go back to Step 2.\n",
    "\n",
    "The distance between each object is calculate as follow:\n",
    "\n",
    "$$D(X,Y) = \\sum_{i=1}^m\\sigma(x_j,y_j)$$\n",
    "$$where \\sigma(x_j,y_j) = 0, if x_j = y_j$$ $$and\\sigma(x_j,y_j) = 1, if x_j\\neq y_j$$ \n",
    "Here, xj and yj are the values of attribute j in X and Y. \n",
    "The package we used is developed by Nico de Vos\n",
    "The Github Page for this package is [Here](https://github.com/nicodv/kmodes)"
   ]
  },
  {
   "cell_type": "code",
   "execution_count": 43,
   "metadata": {},
   "outputs": [],
   "source": [
    "from kmodes import kmodes\n",
    "import numpy as np\n",
    "np.random.seed(520)\n",
    "userdf_km = userdf_km.astype(object)\n",
    "df_dummy = pd.get_dummies(userdf_km)\n",
    "\n",
    "#transfpdorm into numpy array\n",
    "x = df_dummy.reset_index().values\n",
    "\n",
    "km = kmodes.KModes(n_clusters=6, init='Huang', n_init=7, verbose=0)\n",
    "\n",
    "clusters = km.fit_predict(x)\n",
    "df_dummy['clusters'] = clusters"
   ]
  },
  {
   "cell_type": "markdown",
   "metadata": {},
   "source": [
    "** Result **\n",
    "\n",
    "Now we can look at the result of the cluster by plotting it. There is no direct way of plotting the results from K-Mode Cluster. So what we did is to reduce the dimension using PCA to 2, then plot the resulting cluster."
   ]
  },
  {
   "cell_type": "code",
   "execution_count": 44,
   "metadata": {
    "scrolled": true
   },
   "outputs": [
    {
     "data": {
      "image/png": "[encoded data removed]",
      "text/plain": [
       "<matplotlib.figure.Figure at 0x137f06dd8>"
      ]
     },
     "metadata": {},
     "output_type": "display_data"
    }
   ],
   "source": [
    "#plot using PCA method\n",
    "import matplotlib.pyplot as plt\n",
    "from sklearn.decomposition import PCA\n",
    "\n",
    "pca = PCA(2)\n",
    "\n",
    "# Turn the dummified df with PCA\n",
    "plot_columns = pca.fit_transform(df_dummy.ix[:,0:21])\n",
    "\n",
    "# Plot based on the two dimensions, and shade by cluster label\n",
    "plt.scatter(x=plot_columns[:,1], y=plot_columns[:,0], c=df_dummy[\"clusters\"], s=90)\n",
    "plt.show()"
   ]
  },
  {
   "cell_type": "markdown",
   "metadata": {},
   "source": [
    "The resulting plot is reasonale clustered. However, because we are using PCA reduction into only 2 dimensions for plotting, we are aware that this plot does not represent the clsuter 100%. It is the best representation we can offer. As a result, we cluster the users into 6 different Clusters."
   ]
  },
  {
   "cell_type": "markdown",
   "metadata": {},
   "source": [
    "Now each user are in one of the six clusters. Our main recommendation system would be as follow:\n",
    "\n",
    "1. Get the ID of the yelp user, say User 4.\n",
    "3. Apply cluster method to that user and get User4's cluster number.\n",
    "2. Find all users in the same cluster.\n",
    "3. Get the restaurant ID for from that cluster and remove the one that User 4 had already reviewed.\n",
    "4. From that list of restaurant we will pick the ones that are in the state that the user prefered.\n",
    "5. Finally we will recommend the top 5 rated restaurants to User 4.\n",
    "\n",
    "In addition, instead of recommend restaruant to User 4, we can also recommend other users to them. Since people in the same cluster share the same interest, we can recommend User 4 those people as connection. Again, the recommendation is based on location but not limit to that location. \n",
    "\n",
    "For a new user, yelp can cluster he or she into one the the 6 clusters based on past review information and create push the recommendation of either restaruants or similar users based on the location that user prefers. \n"
   ]
  },
  {
   "cell_type": "markdown",
   "metadata": {},
   "source": [
    "<a id = '3.3.4'></a>\n",
    "### 3.3.4 Discussion about the K-modes method and other methods\n",
    "\n",
    "We also attempted other clustering methods like K-Mean and Hierarchical Cluster. The method we tried is to turn the labels in each categorical into integer label and see it as a integer value. Though we are able to obtain some results from the two methods. The results would change drastically if we label different numbers for each category. Also the cluster centroid is impossible to interpret given our knowledge on these Clustering Methods. After reading on more papers, there is a way to use Hierarchical Cluster on categorical only dataset. It would be our interest in further investgation in the future.\n",
    "\n",
    "There are always ways to expand and prefect the cluster and recommendation system. For future, I would try to twist the cluster methods like K-mean to make it fit categorical data. As of the recommendation system, creating a widget would be ideal for yelp to give recommendation. \n",
    "\n",
    "[Return to the Top](#intro)   |   [Return to Section Top](#3.3)"
   ]
  },
  {
   "cell_type": "markdown",
   "metadata": {},
   "source": [
    "<a id = '4'></a>\n",
    "# Summary and Discussion\n",
    "\n",
    "Huge amount of data have been collected to establish profiles for everyone who uses internet and mobile network. Basing on these data, we can explore characteristics and rules underlying human behaviors. In this study, we took advantage of Yelp data to develop a recommender system. \n",
    "\n",
    "The core idea of our algorithms is to find similar people in the taste space for target users, because we deduce that people with similar taste may share similar preferences to restaurants. Three major methods are applied to search similar users. The most intuitive way is co-rating based similarity. For each target user, we searched the whole user list, and find out all the other users sharing co-rating restaurants. We calculated PCC between the target user and each co-rater and picked the users with top PCC as neighbors. This method is straight forward and accurate, while it also has shortcoming: going through the whole user list with calculating PCC is very time-consuming and people always need to face the situation of lacking co-raters. To overcome these problems, we developed algorithms based on reviews and restaurant features, separately. We clustered users into different groups and took the same group members as neighbors. In this way, we avoid the “co-rater problem”, since reviews and the features of different restaurants are generally effective and can be treated equally for each user.\n",
    "\n",
    "To recommend restaurants for target users, we extracted high-rating restaurants from the list of closest neighbors, based on the rational that people with similar taste prefer the same restaurants. The similarity-based tactic can also be applied to predict restaurant rating for target users. We tested two methods of prediction on our samples.\n",
    "\n",
    "The several methods we used to find neighbors are complementary to each other. The future direction will be combining them together to form a hybrid model to better address our questions.\n",
    "\n",
    "\n",
    "[Return to the Top](#intro)"
   ]
  }
 ],
 "metadata": {
  "kernelspec": {
   "display_name": "Python 3",
   "language": "python",
   "name": "python3"
  },
  "language_info": {
   "codemirror_mode": {
    "name": "ipython",
    "version": 3
   },
   "file_extension": ".py",
   "mimetype": "text/x-python",
   "name": "python",
   "nbconvert_exporter": "python",
   "pygments_lexer": "ipython3",
   "version": "3.6.1"
  }
 },
 "nbformat": 4,
 "nbformat_minor": 2
}
